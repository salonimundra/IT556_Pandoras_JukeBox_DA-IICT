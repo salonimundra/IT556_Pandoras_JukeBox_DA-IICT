{
 "cells": [
  {
   "cell_type": "code",
   "execution_count": 1,
   "metadata": {
    "collapsed": true
   },
   "outputs": [],
   "source": [
    "#mapping as on kibana with custom analyzer as defined in the setting\n",
    "\n",
    "# PUT product_details2\n",
    "# {\n",
    "#   \"settings\": {\n",
    "#     \"analysis\": {\n",
    "#       \"analyzer\": {\n",
    "#         \"custom\": { \n",
    "#           \"type\": \"custom\",\n",
    "#           \"tokenizer\": \"standard\",\n",
    "#           \"max_token_length\": 5,   \n",
    "#           \"stopwords\": \"_english_\",\n",
    "#           \"filter\": [\n",
    "#             \"lowercase\",\n",
    "#             \"asciifolding\"\n",
    "#           ]\n",
    "#         }\n",
    "#       }\n",
    "#     }\n",
    "#   },     \n",
    "#   \"mappings\": {\n",
    "#     \"product2\": {\n",
    "#       \"properties\": {\n",
    "#         \"Transaction_date\" :{\"type\": \"text\"},\n",
    "#         \"ProductID\": {\"type\":\"text\"},\n",
    "#         \"Price\": {\"type\":\"text\"},\n",
    "#         \"Payment_type\":{\"type\":\"text\"},        \n",
    "#         \"Name\": {\"type\":\"text\"},\n",
    "#         \"City\": {\"type\":\"text\"},\n",
    "#         \"State\": {\"type\":\"text\"},\n",
    "#         \"Country\": {\"type\":\"text\",\"boost\":5},\n",
    "#         \"Account_Created\": {\"type\":\"text\"},\n",
    "#         \"Last_Login\":{\"type\": \"text\"},\n",
    "#         \"Latitude\":{\"type\": \"text\"},\n",
    "#         \"Longitude\":{\"type\": \"text\"}\n",
    "#       }\n",
    "#     }  \n",
    "#   }\n",
    "# }\n",
    "\n"
   ]
  },
  {
   "cell_type": "code",
   "execution_count": 2,
   "metadata": {
    "collapsed": true
   },
   "outputs": [],
   "source": [
    "from elasticsearch import helpers, Elasticsearch\n",
    "import csv\n",
    "\n",
    "es = Elasticsearch()\n"
   ]
  },
  {
   "cell_type": "code",
   "execution_count": 3,
   "metadata": {
    "collapsed": true
   },
   "outputs": [],
   "source": [
    "with open('data_2.csv', 'rU') as f:\n",
    "  reader = csv.DictReader(f)\n",
    "  helpers.bulk(es, reader, index='product_details2', doc_type='product2')"
   ]
  },
  {
   "cell_type": "code",
   "execution_count": 16,
   "metadata": {
    "collapsed": false
   },
   "outputs": [
    {
     "name": "stdout",
     "output_type": "stream",
     "text": [
      "Canada British Columbia Product1\n",
      "Canada British Columbia Product1\n",
      "Canada British Columbia Product1\n",
      "Canada Alberta Product1\n",
      "Canada Alberta Product1\n",
      "Canada British Columbia Product1\n",
      "Canada Quebec Product1\n",
      "Canada British Columbia Product1\n",
      "Canada Alberta Product1\n",
      "Canada British Columbia Product1\n"
     ]
    }
   ],
   "source": [
    "#boolean-query with minimum-should match and boost-value \n",
    "booleanquery={\n",
    "  \"query\": {\n",
    "    \"bool\" : {\n",
    "      \"must\" : {\n",
    "        \"match\" : { \"Country\" : \"Canada\" }\n",
    "      },\n",
    "      \"filter\": {\n",
    "        \"match\" : { \"Product\" : \"Product1\" }\n",
    "      },\n",
    "      \"must_not\" : {\n",
    "        \"match\" : { \"State\" : \"Ontario\" }      \n",
    "      },\n",
    "      \"should\" : [\n",
    "        { \"match\" : { \"Country\" : \"Canada\" } },\n",
    "        { \"match\" : { \"State\" : \"England\" } }\n",
    "      ],\n",
    "      \"minimum_should_match\" : 1,\n",
    "      \"boost\" : 2.0\n",
    "    }\n",
    "  }\n",
    "}\n",
    "\n",
    "res = es.search(index=\"product_details2\",body=booleanquery)\n",
    "for hit in res['hits']['hits']:\n",
    "\tprint hit['_source']['Country'],hit['_source']['State'],hit['_source']['Product']\n",
    "    "
   ]
  },
  {
   "cell_type": "code",
   "execution_count": null,
   "metadata": {
    "collapsed": true
   },
   "outputs": [],
   "source": []
  }
 ],
 "metadata": {
  "kernelspec": {
   "display_name": "Python [Root]",
   "language": "python",
   "name": "Python [Root]"
  },
  "language_info": {
   "codemirror_mode": {
    "name": "ipython",
    "version": 2
   },
   "file_extension": ".py",
   "mimetype": "text/x-python",
   "name": "python",
   "nbconvert_exporter": "python",
   "pygments_lexer": "ipython2",
   "version": "2.7.12"
  }
 },
 "nbformat": 4,
 "nbformat_minor": 0
}
