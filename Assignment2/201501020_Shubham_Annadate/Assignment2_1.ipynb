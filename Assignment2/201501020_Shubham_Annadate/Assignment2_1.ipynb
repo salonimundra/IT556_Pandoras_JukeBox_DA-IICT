{
 "cells": [
  {
   "cell_type": "code",
   "execution_count": 1,
   "metadata": {
    "collapsed": true
   },
   "outputs": [],
   "source": [
    "# PUT music_index_try\n",
    "# {\n",
    "#   \"settings\": {\n",
    "#     \"analysis\": {\n",
    "#       \"analyzer\": {\n",
    "#         \"std_folded\": { \n",
    "#           \"type\": \"custom\",\n",
    "#           \"tokenizer\": \"standard\",\n",
    "#           \"filter\": [\n",
    "#             \"lowercase\",\n",
    "#             \"asciifolding\"\n",
    "#           ]\n",
    "#         }\n",
    "#       },\n",
    "#       \"normalizer\": {\n",
    "#         \"my_normalizer\": {\n",
    "#           \"char_filter\": [],\n",
    "#           \"filter\": [\"uppercase\", \"asciifolding\"]\n",
    "#         }\n",
    "#       }\n",
    "#     }\n",
    "#   },\n",
    "#   \"mappings\": {\n",
    "#     \"music_type_try\": {\n",
    "#       \"properties\": {\n",
    "#         \"title\" : {\n",
    "#           \"type\":\"text\",\n",
    "#           \"analyzer\": \"standard\",\n",
    "#            \"similarity\": \"classic\"\n",
    "#         },\n",
    "#         \"content\" : {\n",
    "#           \"type\":\"text\",\n",
    "#           \"analyzer\": \"std_folded\",\n",
    "#           \"similarity\": \"boolean\"\n",
    "#         },\n",
    "#         \"examples\" :{\n",
    "#           \"type\": \"text\",\n",
    "#           \"analyzer\":\"whitespace\"    \n",
    "#         },\n",
    "#         \"extra\" :{\n",
    "#           \"type\" :\"keyword\",\n",
    "#           \"normalizer\":\"my_normalizer\"\n",
    "#         }\n",
    "#       }\n",
    "#     }  \n",
    "#   }\n",
    "# }"
   ]
  },
  {
   "cell_type": "code",
   "execution_count": 32,
   "metadata": {
    "collapsed": true
   },
   "outputs": [],
   "source": [
    "from elasticsearch import helpers, Elasticsearch\n",
    "import csv\n",
    "\n",
    "es = Elasticsearch()\n"
   ]
  },
  {
   "cell_type": "code",
   "execution_count": 33,
   "metadata": {
    "collapsed": true
   },
   "outputs": [],
   "source": [
    "j=0\n",
    "str =[\"Pop\",\"Pop music is a genre of popular music that originated in its modern form in the United States and United Kingdom during the mid-1950s.[4] The terms 'popular music' and 'pop music' are often used interchangeably, although the former describes all music that is popular and includes many different styles.\\nAlthough much of the music that appears on record charts is seen as pop music, the genre is distinguished from chart music. \",\"1)Perfect by Ed Sheeran 2)Thriller by Michael Jackson\",\"Bazigar\",\n",
    "\"Rock\",\"Rock music is a broad genre of popular music that originated as 'rock and roll' in the United States in the early 1950s, and developed into a range of different styles in the 1960s and later, particularly in the United Kingdom and in the United States.[1][2] It has its roots in 1940s and 1950s rock and roll, a style which drew heavily on the African-American genres of blues and rhythm and blues, and from country music.  Musically, rock has centered on the electric guitar, usually as part of a rock group with electric bass and drums and one or more singers. \",\"1)Smells like Teen Spirit by Nirvana 2)We will rock you by Queens\",\"BazigaR\",\n",
    "\"Jazz\",\"Jazz is a music genre that originated in the African-American communities of New Orleans, United States and developed from roots in blues and ragtime Jazz is seen by many as 'America's classical music'. It then emerged in the form of independent traditional and popular musical styles, all linked by the common bonds of African-American and European-American musical parentage with a performance orientation.[4] Jazz is characterized by swing and blue notes, call and response vocals, polyrhythms and improvisation. Jazz has roots in West African cultural and musical expression, and in African-American music traditions including blues and ragtime, as well as European military band music.\",\"Louis Armstrong\",\"Bazigar\",\n",
    "\"Hip-Hop\",\"Hip hop music, also called hip-hop or rap music, is a music genre developed in the United States by inner-city African Americans in the 1970s which consists of a stylized rhythmic music that commonly accompanies rapping, a rhythmic and rhyming speech that is chanted.[4] It developed as part of hip hop culture, a subculture defined by four key stylistic elements: MCing/rapping, DJing/scratching with turntables, break dancing, and graffiti writing. Other elements include sampling beats or bass lines from records (or synthesized beats and sounds), and rhythmic beatboxing. While often used to refer solely to rapping, hip hop more properly denotes the practice of the entire subculture.\",\"My way by Fetty Wap\",\"BazigAR!^&\",\n",
    "\"Folk\",\"Folk music includes both traditional music and the genre that evolved from it during the 20th century folk revival. The term originated in the 19th century, but is often applied to music older than that. Traditional folk music has been defined in several ways: as music transmitted orally, music with unknown composers, or music performed by custom over a long period of time. \",\"Blowing in the wind by Bob Dylan\",\"None here\",\n",
    "\"Heavy metal\",\"Heavy metal (or simply metal) is a genre of rock music[1] that developed in the late 1960s and early 1970s, largely in the United Kingdom.[2] With roots in blues rock and psychedelic/acid rock,[3] the bands that created heavy metal developed a thick, massive sound, characterized by highly amplified distortion, extended guitar solos, emphatic beats, and overall loudness. Heavy metal lyrics and performance styles are sometimes associated with aggression and machismo\",\"Paranoid by black Sabbath\",\"BaaR\",\n",
    "\"Funk\",\"Funk is a music genre that originated in the mid-1960s when African American musicians created a rhythmic, danceable new form of music through a mixture of soul music, jazz, and rhythm and blues (R&B). Funk de-emphasizes melody and chord progressions used in other related genres and brings a strong rhythmic groove of a bass line played by an electric bassist and a drum part played by a drummer to the foreground. Like much of African-inspired music, funk typically consists of a complex groove with rhythm instruments playing interlocking grooves. Funk uses the same richly colored extended chords found in bebop jazz, such as minor chords with added sevenths and elevenths, or dominant seventh chords with altered ninths.\",\"Supestition by steve wonder\",\"!#BazigaR\",\n",
    "\"Techno\",\"Techno is a form of electronic dance music that emerged in Detroit, Michigan, in the United States during the mid-to-late 1980s.[2][3][4][5] The first recorded use of the word techno in reference to a specific genre of music was in 1988.[6][7] Many styles of techno now exist, but Detroit techno is seen as the foundation upon which a number of subgenres have been built.[8]\",\"Big Fun by Inner city\",\"baR KHuLa hai\",\n",
    "\"Rap\",\"Rapping (or rhyming, spitting,[1] emceeing,[2] MCing[2][3]) is a musical form of vocal delivery that incorporates rhyme, rhythmic speech, and street vernacular,[4] which is performed or chanted in a variety of ways, usually over a backbeat or musical accompaniment.[4] The components of rap include content (what is being said), flow (rhythm, rhyme), and delivery (cadence, tone).[5] Rap differs from spoken-word poetry in that rap is usually performed in time to an instrumental track. Rap is often associated with, and is a primary ingredient of hip-hop music, but the origins of the phenomenon predate hip-hop culture.\",\"Rap god by eminem\",\"Bazigar!^&\",\n",
    "\"Classical\",\"Classical music is art music produced or rooted in the traditions of Western music, including both liturgical (religious) and secular music. While a more precise term is also used to refer to the period from 1750 to 1820 (the Classical period), this article is about the broad span of time from before the 6th century AD to the present day, which includes the Classical period and various other periods\",\"Mughal-e-Azam\",\"BAR khula hai\",\n",
    "\"No music\",\"This is just for trying out boosting queryies\",\"None examples\",\"BAR\",\n",
    "\"Yes music\",\"No This is just for trying out boosting queryies\",\"Hellya examples\",\"bar\"] \n"
   ]
  },
  {
   "cell_type": "code",
   "execution_count": 34,
   "metadata": {
    "collapsed": false
   },
   "outputs": [
    {
     "data": {
      "text/plain": [
       "(12, [])"
      ]
     },
     "execution_count": 34,
     "metadata": {},
     "output_type": "execute_result"
    }
   ],
   "source": [
    "actions = []\n",
    "while (j <12*4):\n",
    "\taction = {\n",
    "\t\t\"_index\":\"music_index_try\",\n",
    "\t\t\"_type\":\"music_type_try\",\n",
    "\t\t\"_id\":j/4,\n",
    "\t\t\"_source\":{\n",
    "\t\t\t\"title\":str[j],\n",
    "\t\t\t\"content\":str[j+1],\n",
    "\t\t\t\"examples\":str[j+2],\n",
    "            \"extra\":str[j+3]\n",
    "        }\n",
    "\t}\n",
    "\tactions.append(action)\n",
    "\tj+=4\n",
    "\n",
    "helpers.bulk(es, actions)\n"
   ]
  },
  {
   "cell_type": "code",
   "execution_count": 35,
   "metadata": {
    "collapsed": false
   },
   "outputs": [
    {
     "name": "stdout",
     "output_type": "stream",
     "text": [
      "the\n",
      "2\n",
      "quick\n",
      "brown\n",
      "foxes\n",
      "jumped\n",
      "over\n",
      "the\n",
      "lazy\n",
      "dog's\n",
      "bone\n",
      "f\n"
     ]
    }
   ],
   "source": [
    "#standard analyzer\n",
    "analyzebody= {\n",
    "        \n",
    "  \"analyzer\": \"standard\",\n",
    "  \"text\": \" The 2 QUICK Brown-Foxes jumped over the lazy dog's bone. ? !#F\"\n",
    "\n",
    "}\n",
    "\n",
    "res= es.indices.analyze(index=\"music_index_try\" ,body= analyzebody)\n",
    "for item in res['tokens']:\n",
    "    print item['token']"
   ]
  },
  {
   "cell_type": "code",
   "execution_count": 36,
   "metadata": {
    "collapsed": false
   },
   "outputs": [
    {
     "name": "stdout",
     "output_type": "stream",
     "text": [
      "the\n",
      "quick\n",
      "brown\n",
      "foxes\n",
      "jumped\n",
      "over\n",
      "the\n",
      "lazy\n",
      "dog\n",
      "s\n",
      "bone\n",
      "f\n"
     ]
    }
   ],
   "source": [
    "#simple analyzer\n",
    "analyzebody= {\n",
    "        \n",
    "    \"analyzer\": \"simple\",\n",
    "    \"text\": \" The 2 QUICK Brown-Foxes jumped over the lazy dog's bone. ? !#F\"\n",
    "}\n",
    "\n",
    "res= es.indices.analyze(index=\"music_index_try\" ,body= analyzebody)\n",
    "for item in res['tokens']:\n",
    "    print item['token']"
   ]
  },
  {
   "cell_type": "code",
   "execution_count": 37,
   "metadata": {
    "collapsed": false
   },
   "outputs": [
    {
     "name": "stdout",
     "output_type": "stream",
     "text": [
      "The\n",
      "2\n",
      "QUICK\n",
      "Brown-Foxes\n",
      "jumped\n",
      "over\n",
      "the\n",
      "lazy\n",
      "dog's\n",
      "bone.\n",
      "?\n",
      "!#F\n"
     ]
    }
   ],
   "source": [
    "#whitespace analyzer\n",
    "analyzebody= {\n",
    "        \n",
    "    \"analyzer\": \"whitespace\",\n",
    "    \"text\": \" The 2 QUICK Brown-Foxes jumped over the lazy dog's bone. ? !#F\"\n",
    "}\n",
    "\n",
    "res= es.indices.analyze(index=\"music_index_try\" ,body= analyzebody)\n",
    "for item in res['tokens']:\n",
    "    print item['token']"
   ]
  },
  {
   "cell_type": "code",
   "execution_count": 38,
   "metadata": {
    "collapsed": false
   },
   "outputs": [
    {
     "name": "stdout",
     "output_type": "stream",
     "text": [
      "quick\n",
      "brown\n",
      "foxes\n",
      "jumped\n",
      "over\n",
      "lazy\n",
      "dog\n",
      "s\n",
      "bone\n",
      "f\n"
     ]
    }
   ],
   "source": [
    "#stop analyzer\n",
    "analyzebody= {\n",
    "        \n",
    "    \"analyzer\": \"stop\",\n",
    "    \"text\": \" The 2 QUICK Brown-Foxes jumped over the lazy dog's bone. ? !#F\"\n",
    "}\n",
    "\n",
    "res= es.indices.analyze(index=\"music_index_try\" ,body= analyzebody)\n",
    "for item in res['tokens']:\n",
    "    print item['token']"
   ]
  },
  {
   "cell_type": "code",
   "execution_count": 39,
   "metadata": {
    "collapsed": false
   },
   "outputs": [
    {
     "name": "stdout",
     "output_type": "stream",
     "text": [
      " The 2 QUICK Brown-Foxes jumped over the lazy dog's bone. ? !#F\n"
     ]
    }
   ],
   "source": [
    "#keyword analyzer\n",
    "analyzebody= {\n",
    "        \n",
    "    \"analyzer\": \"keyword\",\n",
    "    \"text\": \" The 2 QUICK Brown-Foxes jumped over the lazy dog's bone. ? !#F\"\n",
    "}\n",
    "\n",
    "res= es.indices.analyze(index=\"music_index_try\" ,body= analyzebody)\n",
    "for item in res['tokens']:\n",
    "    print item['token']"
   ]
  },
  {
   "cell_type": "code",
   "execution_count": 40,
   "metadata": {
    "collapsed": false
   },
   "outputs": [
    {
     "name": "stdout",
     "output_type": "stream",
     "text": [
      "the\n",
      "2\n",
      "quick\n",
      "brown\n",
      "foxes\n",
      "jumped\n",
      "over\n",
      "the\n",
      "lazy\n",
      "dog\n",
      "s\n",
      "bone\n",
      "f\n"
     ]
    }
   ],
   "source": [
    "#pattern analyzer\n",
    "analyzebody= {\n",
    "        \n",
    "    \"analyzer\": \"pattern\",\n",
    "    \"text\": \" The 2 QUICK Brown-Foxes jumped over the lazy dog's bone. ? !#F\"\n",
    "}\n",
    "\n",
    "res= es.indices.analyze(index=\"music_index_try\" ,body= analyzebody)\n",
    "for item in res['tokens']:\n",
    "    print item['token']"
   ]
  },
  {
   "cell_type": "code",
   "execution_count": 41,
   "metadata": {
    "collapsed": false
   },
   "outputs": [
    {
     "name": "stdout",
     "output_type": "stream",
     "text": [
      "2\n",
      "quick\n",
      "brown\n",
      "fox\n",
      "jump\n",
      "over\n",
      "lazi\n",
      "dog\n",
      "bone\n",
      "f\n"
     ]
    }
   ],
   "source": [
    "#language analyzer\n",
    "analyzebody= {\n",
    "        \n",
    "    \"analyzer\": \"english\",\n",
    "    \"text\": \" The 2 QUICK Brown-Foxes jumped over the lazy dog's bone. ? !#F\"\n",
    "}\n",
    "\n",
    "res= es.indices.analyze(index=\"music_index_try\" ,body= analyzebody)\n",
    "for item in res['tokens']:\n",
    "    print item['token']"
   ]
  },
  {
   "cell_type": "code",
   "execution_count": 42,
   "metadata": {
    "collapsed": false
   },
   "outputs": [
    {
     "name": "stdout",
     "output_type": "stream",
     "text": [
      "2 bone brown dog's f foxes jumped lazy over quick the\n"
     ]
    }
   ],
   "source": [
    "#fingerprint analyzer\n",
    "analyzebody= {\n",
    "        \n",
    "    \"analyzer\": \"fingerprint\",\n",
    "    \"text\": \" The 2 QUICK Brown-Foxes jumped over the lazy dog's bone. ? !#F\"\n",
    "}\n",
    "\n",
    "res= es.indices.analyze(index=\"music_index_try\" ,body= analyzebody)\n",
    "for item in res['tokens']:\n",
    "    print item['token']"
   ]
  },
  {
   "cell_type": "code",
   "execution_count": 43,
   "metadata": {
    "collapsed": false
   },
   "outputs": [
    {
     "name": "stdout",
     "output_type": "stream",
     "text": [
      "the\n",
      "2\n",
      "quick\n",
      "brown\n",
      "foxes\n",
      "jumped\n",
      "over\n",
      "the\n",
      "lazy\n",
      "dog's\n",
      "bone\n",
      "f\n"
     ]
    }
   ],
   "source": [
    "#std_folded analyzer\n",
    "analyzebody= {\n",
    "        \n",
    "    \"analyzer\": \"std_folded\",\n",
    "    \"text\": \" The 2 QUICK Brown-Foxes jumped over the lazy dog's bone. ? !#F\"\n",
    "}\n",
    "\n",
    "res= es.indices.analyze(index=\"music_index_try\" ,body= analyzebody)\n",
    "for item in res['tokens']:\n",
    "    print item['token']"
   ]
  },
  {
   "cell_type": "code",
   "execution_count": 44,
   "metadata": {
    "collapsed": false
   },
   "outputs": [
    {
     "name": "stdout",
     "output_type": "stream",
     "text": [
      "1.0\n",
      "Yes music\n",
      "No This is just for trying out boosting queryies\n"
     ]
    }
   ],
   "source": [
    "#boost-query 1\n",
    "boostingquery={\n",
    "\t\"query\": {\n",
    "        \"boosting\" : {\n",
    "            \"positive\" : {\n",
    "                \"term\" : {\n",
    "                    \"content\" : \"no\"\n",
    "                }\n",
    "            },\n",
    "            \"negative\" : {\n",
    "                 \"term\" : {\n",
    "                     \"title\" : \"no\"\n",
    "                }\n",
    "            },\n",
    "            \"negative_boost\" : 0.2\n",
    "        }\n",
    "\t}\t\n",
    "}\n",
    "\n",
    "res = es.search(index=\"music_index_try\",body=boostingquery)\n",
    "\n",
    "for hit in res['hits']['hits']:\n",
    "    print hit['_score']\n",
    "    print hit['_source']['title']\n",
    "    print hit['_source']['content']\n",
    "    "
   ]
  },
  {
   "cell_type": "code",
   "execution_count": 45,
   "metadata": {
    "collapsed": false
   },
   "outputs": [
    {
     "name": "stdout",
     "output_type": "stream",
     "text": [
      "1.3550222\n",
      "No music\n",
      "This is just for trying out boosting queryies\n"
     ]
    }
   ],
   "source": [
    "#boosst-query 2\n",
    "boostingquery={\n",
    "\t\"query\": {\n",
    "        \"boosting\" : {\n",
    "            \"positive\" : {\n",
    "                \"match\" : {\n",
    "                    \"title\" : \"no\"\n",
    "                }\n",
    "            },\n",
    "            \"negative\" : {\n",
    "                 \"match\" : {\n",
    "                     \"content\" : \"no\"\n",
    "                }\n",
    "            },\n",
    "            \"negative_boost\" : 0.2\n",
    "        }\n",
    "\t}\t\n",
    "}\n",
    "\n",
    "res = es.search(index=\"music_index_try\",body=boostingquery)\n",
    "\n",
    "for hit in res['hits']['hits']:\n",
    "    print hit['_score']\n",
    "    print hit['_source']['title']\n",
    "    print hit['_source']['content']"
   ]
  },
  {
   "cell_type": "code",
   "execution_count": 46,
   "metadata": {
    "collapsed": false
   },
   "outputs": [
    {
     "name": "stdout",
     "output_type": "stream",
     "text": [
      "No music   BAR\n",
      "Yes music   bar\n"
     ]
    }
   ],
   "source": [
    "normalizedQuery={\n",
    "  \"query\": {\n",
    "    \"match\": {\n",
    "      \"extra\": \"BAR\"\n",
    "    }\n",
    "  }\n",
    "}\n",
    "res = es.search(index=\"music_index_try\",body=normalizedQuery)\n",
    "for hit in res['hits']['hits']:\n",
    "    print hit['_source']['title'],\" \",hit['_source']['extra']"
   ]
  },
  {
   "cell_type": "code",
   "execution_count": 47,
   "metadata": {
    "collapsed": false
   },
   "outputs": [
    {
     "name": "stdout",
     "output_type": "stream",
     "text": [
      "Jazz   Bazigar\n",
      "Rock   BazigaR\n",
      "Pop   Bazigar\n"
     ]
    }
   ],
   "source": [
    "normalizedQuery={\n",
    "  \"query\": {\n",
    "    \"match\": {\n",
    "      \"extra\": \"Bazigar\"\n",
    "    }\n",
    "  }\n",
    "}\n",
    "res = es.search(index=\"music_index_try\",body=normalizedQuery)\n",
    "for hit in res['hits']['hits']:\n",
    "    print hit['_source']['title'],\" \",hit['_source']['extra']"
   ]
  },
  {
   "cell_type": "code",
   "execution_count": 49,
   "metadata": {
    "collapsed": false
   },
   "outputs": [
    {
     "name": "stdout",
     "output_type": "stream",
     "text": [
      "BAZIGAR 3\n",
      "BAR 2\n",
      "BAR KHULA HAI 2\n",
      "BAZIGAR!^& 2\n",
      "!#BAZIGAR 1\n",
      "BAAR 1\n",
      "NONE HERE 1\n"
     ]
    }
   ],
   "source": [
    "aggregateQuery={\n",
    "  \"size\": 0,\n",
    "  \"aggs\": {\n",
    "    \"name_terms\": {\n",
    "      \"terms\": {\n",
    "        \"field\": \"extra\"\n",
    "      }\n",
    "    }\n",
    "  }\n",
    "}\n",
    "res = es.search(index=\"music_index_try\",body=aggregateQuery)\n",
    "for item in res['aggregations']['name_terms']['buckets']:\n",
    "    print item['key'],item['doc_count']"
   ]
  },
  {
   "cell_type": "code",
   "execution_count": null,
   "metadata": {
    "collapsed": true
   },
   "outputs": [],
   "source": []
  }
 ],
 "metadata": {
  "kernelspec": {
   "display_name": "Python [Root]",
   "language": "python",
   "name": "Python [Root]"
  },
  "language_info": {
   "codemirror_mode": {
    "name": "ipython",
    "version": 2
   },
   "file_extension": ".py",
   "mimetype": "text/x-python",
   "name": "python",
   "nbconvert_exporter": "python",
   "pygments_lexer": "ipython2",
   "version": "2.7.12"
  }
 },
 "nbformat": 4,
 "nbformat_minor": 0
}
