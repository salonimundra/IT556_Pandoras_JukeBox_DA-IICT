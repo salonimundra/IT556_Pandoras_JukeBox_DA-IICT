{
  "nbformat": 4,
  "nbformat_minor": 0,
  "metadata": {
    "colab": {
      "name": "Assignment 5.ipynb",
      "version": "0.3.2",
      "views": {},
      "default_view": {},
      "provenance": []
    },
    "kernelspec": {
      "display_name": "Python 2",
      "language": "python",
      "name": "python2"
    },
    "accelerator": "GPU"
  },
  "cells": [
    {
      "metadata": {
        "id": "5nv7ovlY6HNM",
        "colab_type": "code",
        "colab": {
          "autoexec": {
            "startup": false,
            "wait_interval": 0
          }
        }
      },
      "cell_type": "code",
      "source": [
        "!pip install scikit-surprise\n",
        "import numpy as np\n",
        "import surprise  # run 'pip install scikit-surprise' to install surprise\n",
        "import os\n",
        "from surprise import BaselineOnly\n",
        "from surprise import Dataset\n",
        "from surprise import Reader\n",
        "from surprise import SVD\n",
        "from surprise.model_selection import cross_validate"
      ],
      "execution_count": 0,
      "outputs": []
    },
    {
      "metadata": {
        "id": "sH8KZs4j6HO6",
        "colab_type": "code",
        "colab": {
          "autoexec": {
            "startup": false,
            "wait_interval": 0
          }
        }
      },
      "cell_type": "code",
      "source": [
        "class MatrixFacto(surprise.AlgoBase):\n",
        "    '''A basic rating prediction algorithm based on matrix factorization.'''\n",
        "    \n",
        "    def __init__(self, learning_rate, n_epochs, n_factors):\n",
        "        \n",
        "        self.lr = learning_rate  # learning rate for SGD\n",
        "        self.n_epochs = n_epochs  # number of iterations of SGD\n",
        "        self.n_factors = n_factors  # number of factors\n",
        "        self.skip_train = 0\n",
        "        \n",
        "    def train(self, trainset):\n",
        "        '''Learn the vectors p_u and q_i with SGD'''\n",
        "        \n",
        "        print('Fitting data with SGD...')\n",
        "        \n",
        "        # Randomly initialize the user and item factors.\n",
        "        p = np.random.normal(0, .1, (trainset.n_users, self.n_factors))\n",
        "        q = np.random.normal(0, .1, (trainset.n_items, self.n_factors))\n",
        "        \n",
        "        # SGD procedure\n",
        "        for _ in range(self.n_epochs):\n",
        "            for u, i, r_ui in trainset.all_ratings():\n",
        "                err = r_ui - np.dot(p[u], q[i])\n",
        "                # Update vectors p_u and q_i\n",
        "                p[u] += self.lr * err * q[i]\n",
        "                q[i] += self.lr * err * p[u]\n",
        "                # Note: in the update of q_i, we should actually use the previous (non-updated) value of p_u.\n",
        "                # In practice it makes almost no difference.\n",
        "        \n",
        "        self.p, self.q = p, q\n",
        "        self.trainset = trainset\n",
        "\n",
        "    def estimate(self, u, i):\n",
        "        '''Return the estmimated rating of user u for item i.'''\n",
        "        \n",
        "        # return scalar product between p_u and q_i if user and item are known,\n",
        "        # else return the average of all ratings\n",
        "        if self.trainset.knows_user(u) and self.trainset.knows_item(i):\n",
        "            return np.dot(self.p[u], self.q[i])\n",
        "        else:\n",
        "            return self.trainset.global_mean"
      ],
      "execution_count": 0,
      "outputs": []
    },
    {
      "metadata": {
        "id": "M7diACjwnRWU",
        "colab_type": "code",
        "colab": {
          "autoexec": {
            "startup": false,
            "wait_interval": 0
          },
          "output_extras": [
            {
              "item_id": 3
            }
          ],
          "base_uri": "https://localhost:8080/",
          "height": 173
        },
        "outputId": "ee49c016-bbc9-4c17-8498-0a0c7e0e738f",
        "executionInfo": {
          "status": "ok",
          "timestamp": 1522006323748,
          "user_tz": -330,
          "elapsed": 141340,
          "user": {
            "displayName": "saprem shah",
            "photoUrl": "https://lh3.googleusercontent.com/a/default-user=s128",
            "userId": "118405894786681012982"
          }
        }
      },
      "cell_type": "code",
      "source": [
        "data = surprise.Dataset.load_builtin('ml-1m')\n",
        "xdict = cross_validate(algo, data, measures=['RMSE', 'MAE'], cv=2, verbose=True)"
      ],
      "execution_count": 43,
      "outputs": [
        {
          "output_type": "stream",
          "text": [
            "Fitting data with SGD...\n",
            "Fitting data with SGD...\n",
            "Evaluating RMSE, MAE of algorithm MatrixFacto on 2 split(s).\n",
            "\n",
            "                  Fold 1  Fold 2  Mean    Std     \n",
            "MAE (testset)     0.7234  0.7213  0.7223  0.0011  \n",
            "RMSE (testset)    0.9201  0.9182  0.9191  0.0009  \n",
            "Fit time          67.66   51.99   59.82   7.84    \n",
            "Test time         13.74   8.25    11.00   2.75    \n"
          ],
          "name": "stdout"
        }
      ]
    },
    {
      "metadata": {
        "id": "E_DZhc7doggO",
        "colab_type": "code",
        "colab": {
          "autoexec": {
            "startup": false,
            "wait_interval": 0
          }
        }
      },
      "cell_type": "code",
      "source": [
        "lst = []\n",
        "for k in xdict.keys():\n",
        "    lst.append(xdict[k])\n",
        "lst = np.array(lst)\n",
        "\n",
        "rmse2 = np.mean(lst[0])\n",
        "fittime2 = np.mean(lst[2])"
      ],
      "execution_count": 0,
      "outputs": []
    },
    {
      "metadata": {
        "id": "Y-cDMQ1hpIki",
        "colab_type": "code",
        "colab": {
          "autoexec": {
            "startup": false,
            "wait_interval": 0
          },
          "output_extras": [
            {
              "item_id": 1
            }
          ],
          "base_uri": "https://localhost:8080/",
          "height": 34
        },
        "outputId": "fabd66e5-5ffa-43f0-b611-154a7cff234d",
        "executionInfo": {
          "status": "ok",
          "timestamp": 1522006709696,
          "user_tz": -330,
          "elapsed": 1128,
          "user": {
            "displayName": "saprem shah",
            "photoUrl": "https://lh3.googleusercontent.com/a/default-user=s128",
            "userId": "118405894786681012982"
          }
        }
      },
      "cell_type": "code",
      "source": [
        "print(rmse2,fittime2)"
      ],
      "execution_count": 54,
      "outputs": [
        {
          "output_type": "stream",
          "text": [
            "(0.9191407899416851, 59.8242461681366)\n"
          ],
          "name": "stdout"
        }
      ]
    },
    {
      "metadata": {
        "id": "cRPnJhQvn8g2",
        "colab_type": "code",
        "colab": {
          "autoexec": {
            "startup": false,
            "wait_interval": 0
          },
          "output_extras": [
            {
              "item_id": 5
            }
          ],
          "base_uri": "https://localhost:8080/",
          "height": 208
        },
        "outputId": "ca9a418b-ca37-48e4-ffc8-69b09d242fa0",
        "executionInfo": {
          "status": "ok",
          "timestamp": 1522007182070,
          "user_tz": -330,
          "elapsed": 333050,
          "user": {
            "displayName": "saprem shah",
            "photoUrl": "https://lh3.googleusercontent.com/a/default-user=s128",
            "userId": "118405894786681012982"
          }
        }
      },
      "cell_type": "code",
      "source": [
        "data = surprise.Dataset.load_builtin('ml-1m')\n",
        "xdict =cross_validate(algo, data, measures=['RMSE', 'MAE'], cv=4, verbose=True)"
      ],
      "execution_count": 57,
      "outputs": [
        {
          "output_type": "stream",
          "text": [
            "Fitting data with SGD...\n",
            "Fitting data with SGD...\n",
            "Fitting data with SGD...\n",
            "Fitting data with SGD...\n",
            "Evaluating RMSE, MAE of algorithm MatrixFacto on 4 split(s).\n",
            "\n",
            "                  Fold 1  Fold 2  Fold 3  Fold 4  Mean    Std     \n",
            "MAE (testset)     0.7021  0.7004  0.7042  0.7029  0.7024  0.0014  \n",
            "RMSE (testset)    0.8969  0.8939  0.8985  0.8988  0.8970  0.0020  \n",
            "Fit time          125.81  135.53  118.56  78.98   114.72  21.50   \n",
            "Test time         7.49    10.10   5.61    3.30    6.63    2.50    \n"
          ],
          "name": "stdout"
        }
      ]
    },
    {
      "metadata": {
        "id": "LxHt-UB4q36Q",
        "colab_type": "code",
        "colab": {
          "autoexec": {
            "startup": false,
            "wait_interval": 0
          }
        }
      },
      "cell_type": "code",
      "source": [
        "lst = []\n",
        "for k in xdict.keys():\n",
        "    lst.append(xdict[k])\n",
        "lst = np.array(lst)\n",
        "\n",
        "rmse4 = np.mean(lst[0])\n",
        "fittime4 = np.mean(lst[2])"
      ],
      "execution_count": 0,
      "outputs": []
    },
    {
      "metadata": {
        "id": "AQL1OMhHoPSG",
        "colab_type": "code",
        "colab": {
          "autoexec": {
            "startup": false,
            "wait_interval": 0
          },
          "output_extras": [
            {
              "item_id": 7
            }
          ],
          "base_uri": "https://localhost:8080/",
          "height": 243
        },
        "outputId": "e5ca3af5-894a-406a-d8f0-5aacc566275d",
        "executionInfo": {
          "status": "ok",
          "timestamp": 1522007702658,
          "user_tz": -330,
          "elapsed": 519206,
          "user": {
            "displayName": "saprem shah",
            "photoUrl": "https://lh3.googleusercontent.com/a/default-user=s128",
            "userId": "118405894786681012982"
          }
        }
      },
      "cell_type": "code",
      "source": [
        "data = surprise.Dataset.load_builtin('ml-1m')\n",
        "xdict= cross_validate(algo, data, measures=['RMSE', 'MAE'], cv=6, verbose=True)"
      ],
      "execution_count": 59,
      "outputs": [
        {
          "output_type": "stream",
          "text": [
            "Fitting data with SGD...\n",
            "Fitting data with SGD...\n",
            "Fitting data with SGD...\n",
            "Fitting data with SGD...\n",
            "Fitting data with SGD...\n",
            "Fitting data with SGD...\n",
            "Evaluating RMSE, MAE of algorithm MatrixFacto on 6 split(s).\n",
            "\n",
            "                  Fold 1  Fold 2  Fold 3  Fold 4  Fold 5  Fold 6  Mean    Std     \n",
            "MAE (testset)     0.6974  0.6980  0.6992  0.6968  0.6984  0.6980  0.6980  0.0007  \n",
            "RMSE (testset)    0.8920  0.8923  0.8937  0.8901  0.8931  0.8927  0.8923  0.0011  \n",
            "Fit time          134.26  148.31  159.43  151.82  134.10  90.22   136.36  22.55   \n",
            "Test time         5.86    7.33    4.81    6.98    4.74    2.77    5.42    1.53    \n"
          ],
          "name": "stdout"
        }
      ]
    },
    {
      "metadata": {
        "id": "XkXBLWpbq51C",
        "colab_type": "code",
        "colab": {
          "autoexec": {
            "startup": false,
            "wait_interval": 0
          }
        }
      },
      "cell_type": "code",
      "source": [
        "lst = []\n",
        "for k in xdict.keys():\n",
        "    lst.append(xdict[k])\n",
        "lst = np.array(lst)\n",
        "\n",
        "rmse6 = np.mean(lst[0])\n",
        "fittime6 = np.mean(lst[2])"
      ],
      "execution_count": 0,
      "outputs": []
    },
    {
      "metadata": {
        "id": "uh5x5MxCoQ_a",
        "colab_type": "code",
        "colab": {
          "autoexec": {
            "startup": false,
            "wait_interval": 0
          },
          "output_extras": [
            {
              "item_id": 9
            }
          ],
          "base_uri": "https://localhost:8080/",
          "height": 278
        },
        "outputId": "15d3b9f6-6d1f-439a-e7d1-6dcfad477ad1",
        "executionInfo": {
          "status": "ok",
          "timestamp": 1522008414642,
          "user_tz": -330,
          "elapsed": 710580,
          "user": {
            "displayName": "saprem shah",
            "photoUrl": "https://lh3.googleusercontent.com/a/default-user=s128",
            "userId": "118405894786681012982"
          }
        }
      },
      "cell_type": "code",
      "source": [
        "data = surprise.Dataset.load_builtin('ml-1m')\n",
        "xdict = cross_validate(algo, data, measures=['RMSE', 'MAE'], cv=8, verbose=True)"
      ],
      "execution_count": 61,
      "outputs": [
        {
          "output_type": "stream",
          "text": [
            "Fitting data with SGD...\n",
            "Fitting data with SGD...\n",
            "Fitting data with SGD...\n",
            "Fitting data with SGD...\n",
            "Fitting data with SGD...\n",
            "Fitting data with SGD...\n",
            "Fitting data with SGD...\n",
            "Fitting data with SGD...\n",
            "Evaluating RMSE, MAE of algorithm MatrixFacto on 8 split(s).\n",
            "\n",
            "                  Fold 1  Fold 2  Fold 3  Fold 4  Fold 5  Fold 6  Fold 7  Fold 8  Mean    Std     \n",
            "MAE (testset)     0.6967  0.6948  0.6938  0.6976  0.7022  0.6973  0.6943  0.6962  0.6966  0.0025  \n",
            "RMSE (testset)    0.8904  0.8884  0.8878  0.8902  0.8978  0.8901  0.8866  0.8896  0.8901  0.0032  \n",
            "Fit time          135.47  173.31  165.68  168.67  165.69  167.10  135.03  84.94   149.49  28.16   \n",
            "Test time         4.45    4.44    4.34    4.31    3.44    3.47    3.40    2.04    3.74    0.78    \n"
          ],
          "name": "stdout"
        }
      ]
    },
    {
      "metadata": {
        "id": "7y8Mq2bnq6ve",
        "colab_type": "code",
        "colab": {
          "autoexec": {
            "startup": false,
            "wait_interval": 0
          }
        }
      },
      "cell_type": "code",
      "source": [
        "lst = []\n",
        "for k in xdict.keys():\n",
        "    lst.append(xdict[k])\n",
        "lst = np.array(lst)\n",
        "\n",
        "rmse8 = np.mean(lst[0])\n",
        "fittime8 = np.mean(lst[2])"
      ],
      "execution_count": 0,
      "outputs": []
    },
    {
      "metadata": {
        "id": "hRJAIJ2Y7csQ",
        "colab_type": "text"
      },
      "cell_type": "markdown",
      "source": [
        "# **PERFORMANCE (RMSE) ANALYSIS**"
      ]
    },
    {
      "metadata": {
        "id": "Bl_rgm3Eo7e6",
        "colab_type": "code",
        "colab": {
          "autoexec": {
            "startup": false,
            "wait_interval": 0
          },
          "output_extras": [
            {
              "item_id": 1
            }
          ],
          "base_uri": "https://localhost:8080/",
          "height": 401
        },
        "outputId": "b98b8540-813f-49c2-8c6d-d2187e0bda36",
        "executionInfo": {
          "status": "ok",
          "timestamp": 1522010744034,
          "user_tz": -330,
          "elapsed": 1160,
          "user": {
            "displayName": "saprem shah",
            "photoUrl": "https://lh3.googleusercontent.com/a/default-user=s128",
            "userId": "118405894786681012982"
          }
        }
      },
      "cell_type": "code",
      "source": [
        "import matplotlib.pyplot as plt\n",
        "#plt.hist(lst[0,:])\n",
        "n_groups=4\n",
        "\n",
        "rmse=np.array((rmse2,rmse4,rmse6,rmse8))\n",
        "rmse=tuple(rmse.reshape(1, -1)[0])\n",
        "\n",
        "\n",
        "plt.plot([5,7.5,8.3,8.75],rmse,'ro')\n",
        "plt.plot([5,7.5,8.3,8.75],rmse)\n",
        "plt.xlabel('Data-size (in lakhs)')\n",
        "plt.ylabel('RMSE')\n",
        "plt.title('Performance Analysis')\n",
        "\n",
        "plt.xticks([5,7.5,8.3,8.75])\n",
        "\n",
        "plt.tight_layout()\n",
        "plt.show()"
      ],
      "execution_count": 77,
      "outputs": [
        {
          "output_type": "display_data",
          "data": {
            "image/png": "[encoded data removed]",
            "text/plain": [
              "<matplotlib.figure.Figure at 0x7fece7689850>"
            ]
          },
          "metadata": {
            "tags": []
          }
        }
      ]
    },
    {
      "metadata": {
        "id": "b1IS-VKr7XbI",
        "colab_type": "text"
      },
      "cell_type": "markdown",
      "source": [
        "# **RUNTIME ANALYSIS**"
      ]
    },
    {
      "metadata": {
        "id": "DbfsiDDS41pE",
        "colab_type": "code",
        "colab": {
          "autoexec": {
            "startup": false,
            "wait_interval": 0
          },
          "output_extras": [
            {
              "item_id": 1
            }
          ],
          "base_uri": "https://localhost:8080/",
          "height": 401
        },
        "outputId": "b8d15e31-4c2d-4c64-e7fe-52ae86fa863e",
        "executionInfo": {
          "status": "ok",
          "timestamp": 1522014276056,
          "user_tz": -330,
          "elapsed": 1088,
          "user": {
            "displayName": "saprem shah",
            "photoUrl": "https://lh3.googleusercontent.com/a/default-user=s128",
            "userId": "118405894786681012982"
          }
        }
      },
      "cell_type": "code",
      "source": [
        "\n",
        "import matplotlib.pyplot as plt\n",
        "#plt.hist(lst[0,:])\n",
        "n_groups=4\n",
        "\n",
        "fit=np.array((fittime2,fittime4,fittime6,fittime8))\n",
        "fit=tuple(fit.reshape(1, -1)[0])\n",
        "\n",
        "plt.plot([5,7.5,8.3,8.75],fit,'ro')\n",
        "plt.plot([5,7.5,8.3,8.75],fit)\n",
        "\n",
        "plt.xlabel('Data-size (in lakhs)')\n",
        "plt.ylabel('RunTime (in sec)')\n",
        "plt.title('Performance Analysis')\n",
        "\n",
        "plt.xticks([5,7.5,8.3,8.75])\n",
        "\n",
        "plt.tight_layout()\n",
        "plt.show()"
      ],
      "execution_count": 87,
      "outputs": [
        {
          "output_type": "display_data",
          "data": {
            "image/png": "[encoded data removed]",
            "text/plain": [
              "<matplotlib.figure.Figure at 0x7fecc3a85e90>"
            ]
          },
          "metadata": {
            "tags": []
          }
        }
      ]
    },
    {
      "metadata": {
        "id": "kixEJN5mFIzS",
        "colab_type": "text"
      },
      "cell_type": "markdown",
      "source": [
        "# **MEMORY ANALYSIS**"
      ]
    },
    {
      "metadata": {
        "id": "FoQGwsJv6aBm",
        "colab_type": "code",
        "colab": {
          "autoexec": {
            "startup": false,
            "wait_interval": 0
          },
          "output_extras": [
            {
              "item_id": 1
            }
          ],
          "base_uri": "https://localhost:8080/",
          "height": 401
        },
        "outputId": "9ae44af7-8a3a-4a20-b31a-7e96dd3fa93d",
        "executionInfo": {
          "status": "ok",
          "timestamp": 1522014280814,
          "user_tz": -330,
          "elapsed": 1396,
          "user": {
            "displayName": "saprem shah",
            "photoUrl": "https://lh3.googleusercontent.com/a/default-user=s128",
            "userId": "118405894786681012982"
          }
        }
      },
      "cell_type": "code",
      "source": [
        ""
      ],
      "execution_count": 88,
      "outputs": [
        {
          "output_type": "display_data",
          "data": {
            "image/png": "[encoded data removed]",
            "text/plain": [
              "<matplotlib.figure.Figure at 0x7fed15a9d850>"
            ]
          },
          "metadata": {
            "tags": []
          }
        }
      ]
    },
    {
      "metadata": {
        "id": "fwGS7aGT61HS",
        "colab_type": "code",
        "colab": {
          "autoexec": {
            "startup": false,
            "wait_interval": 0
          }
        }
      },
      "cell_type": "code",
      "source": [
        ""
      ],
      "execution_count": 0,
      "outputs": []
    }
  ]
}