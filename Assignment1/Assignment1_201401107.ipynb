{
 "cells": [
  {
   "cell_type": "code",
   "execution_count": 1,
   "metadata": {
    "collapsed": true
   },
   "outputs": [],
   "source": [
    "#mapping as on kibana\n",
    "\n",
    "# PUT product_details\n",
    "# {\n",
    "#   \"mappings\": {\n",
    "#     \"product\": {\n",
    "#       \"properties\": {\n",
    "#         \"Transaction_date\" :{\"type\": \"text\"},\n",
    "#         \"ProductID\": {\"type\":\"text\"},\n",
    "#         \"Price\": {\"type\":\"text\"},\n",
    "#         \"Name\": {\"type\":\"text\"},\n",
    "#         \"City\": {\"type\":\"text\"},\n",
    "#         \"State\": {\"type\":\"text\"},\n",
    "#         \"Country\": {\"type\":\"text\"},\n",
    "#         \"Account_Created\": {\"type\":\"text\"},\n",
    "#         \"Last_Login\":{\"type\": \"text\"},\n",
    "#         \"Latitude\":{\"type\": \"text\"},\n",
    "#         \"Longitude\":{\"type\": \"text\"}\n",
    "#       }\n",
    "#     }  \n",
    "#   }\n",
    "# }"
   ]
  },
  {
   "cell_type": "code",
   "execution_count": 2,
   "metadata": {
    "collapsed": true
   },
   "outputs": [],
   "source": [
    "from elasticsearch import helpers, Elasticsearch\n",
    "import csv\n",
    "\n",
    "es = Elasticsearch()\n",
    "\n",
    "with open('data_2.csv', 'rU') as f:\n",
    "  reader = csv.DictReader(f)\n",
    "  helpers.bulk(es, reader, index='product_details', doc_type='product')"
   ]
  },
  {
   "cell_type": "code",
   "execution_count": 3,
   "metadata": {
    "collapsed": false
   },
   "outputs": [
    {
     "name": "stdout",
     "output_type": "stream",
     "text": [
      "output for searching name that starts with ca\n"
     ]
    }
   ],
   "source": [
    "#Query1\n",
    "print 'output for searching name that starts with ca'"
   ]
  },
  {
   "cell_type": "code",
   "execution_count": 4,
   "metadata": {
    "collapsed": false
   },
   "outputs": [
    {
     "name": "stdout",
     "output_type": "stream",
     "text": [
      "carolina\n",
      "Cassandra\n",
      "carolien\n",
      "cath\n",
      "Cathy\n",
      "carolina\n",
      "catherine\n",
      "Caren\n",
      "Cathy\n",
      "Cameron\n"
     ]
    }
   ],
   "source": [
    "query_1 = {\n",
    "\t\"query\": {\n",
    "\t\t\"prefix\" : {\n",
    "\t\t\t \"Name\" : \"ca\" \n",
    "\t\t}\n",
    "\t}\n",
    "}\n",
    "\n",
    "res = es.search(index=\"product_details\", body = query_1)\n",
    "\n",
    "for hit in res['hits']['hits']:\n",
    " print hit['_source']['Name']"
   ]
  },
  {
   "cell_type": "code",
   "execution_count": 5,
   "metadata": {
    "collapsed": false
   },
   "outputs": [
    {
     "name": "stdout",
     "output_type": "stream",
     "text": [
      "search records that belong to Netherlands\n"
     ]
    }
   ],
   "source": [
    "#Query2\n",
    "print 'search records that belong to Netherlands'"
   ]
  },
  {
   "cell_type": "code",
   "execution_count": 6,
   "metadata": {
    "collapsed": false
   },
   "outputs": [
    {
     "name": "stdout",
     "output_type": "stream",
     "text": [
      "{u'City': u'Badhoevedorp', u'Product': u'Product1', u'Name': u'Stephanie', u'Country': u'Netherlands', u'Price': u'1200', u'Longitude': u'4.7833333', u'State': u'Noord-Holland', u'Transaction_date': u'1/5/09 13:17', u'Last_Login': u'1/8/09 11:45', u'Payment_Type': u'Mastercard', u'Latitude': u'52.3333333', u'Account_Created': u'1/5/09 12:45'}\n",
      "{u'City': u'Glimmen', u'Product': u'Product1', u'Name': u'Regina', u'Country': u'Netherlands', u'Price': u'1200', u'Longitude': u'6.6333333', u'State': u'Groningen', u'Transaction_date': u'1/1/09 5:04', u'Last_Login': u'1/15/09 10:50', u'Payment_Type': u'Mastercard', u'Latitude': u'53.1333333', u'Account_Created': u'12/16/02 4:09'}\n",
      "{u'City': u'Den Haag', u'Product': u'Product1', u'Name': u'Angel Marie', u'Country': u'Netherlands', u'Price': u'1200', u'Longitude': u'4.3', u'State': u'Zuid-Holland', u'Transaction_date': u'1/17/09 1:49', u'Last_Login': u'2/15/09 5:19', u'Payment_Type': u'Mastercard', u'Latitude': u'52.0833333', u'Account_Created': u'1/13/09 5:09'}\n",
      "{u'City': u'Den Haag', u'Product': u'Product3', u'Name': u'Brona', u'Country': u'Netherlands', u'Price': u'7500', u'Longitude': u'4.3', u'State': u'Zuid-Holland', u'Transaction_date': u'1/12/09 5:50', u'Last_Login': u'2/20/09 0:24', u'Payment_Type': u'Mastercard', u'Latitude': u'52.0833333', u'Account_Created': u'1/4/05 12:43'}\n",
      "{u'City': u'Den Haag', u'Product': u'Product1', u'Name': u'Chris', u'Country': u'Netherlands', u'Price': u'1200', u'Longitude': u'4.3', u'State': u'Zuid-Holland', u'Transaction_date': u'1/11/09 0:15', u'Last_Login': u'2/25/09 4:04', u'Payment_Type': u'Mastercard', u'Latitude': u'52.0833333', u'Account_Created': u'5/7/07 4:07'}\n",
      "{u'City': u'Amsterdam', u'Product': u'Product1', u'Name': u'Antonella', u'Country': u'Netherlands', u'Price': u'1200', u'Longitude': u'4.9166667', u'State': u'Noord-Holland', u'Transaction_date': u'1/6/09 12:27', u'Last_Login': u'1/19/09 4:59', u'Payment_Type': u'Mastercard', u'Latitude': u'52.35', u'Account_Created': u'1/6/09 12:04'}\n",
      "{u'City': u'Eindhoven', u'Product': u'Product1', u'Name': u'Heidi', u'Country': u'Netherlands', u'Price': u'1200', u'Longitude': u'5.4666667', u'State': u'Noord-Brabant', u'Transaction_date': u'1/5/09 5:39', u'Last_Login': u'1/5/09 8:15', u'Payment_Type': u'Amex', u'Latitude': u'51.45', u'Account_Created': u'1/5/09 4:55'}\n",
      "{u'City': u'Glimmen', u'Product': u'Product1', u'Name': u'Regina', u'Country': u'Netherlands', u'Price': u'1200', u'Longitude': u'6.6333333', u'State': u'Groningen', u'Transaction_date': u'1/1/09 5:04', u'Last_Login': u'1/15/09 10:50', u'Payment_Type': u'Mastercard', u'Latitude': u'53.1333333', u'Account_Created': u'12/16/02 4:09'}\n",
      "{u'City': u'Den Haag', u'Product': u'Product1', u'Name': u'Linda', u'Country': u'Netherlands', u'Price': u'1200', u'Longitude': u'4.3', u'State': u'Zuid-Holland', u'Transaction_date': u'1/17/09 12:59', u'Last_Login': u'1/17/09 13:07', u'Payment_Type': u'Diners', u'Latitude': u'52.0833333', u'Account_Created': u'10/29/08 13:09'}\n",
      "{u'City': u'Amsterdam', u'Product': u'Product1', u'Name': u'Antonella', u'Country': u'Netherlands', u'Price': u'1200', u'Longitude': u'4.9166667', u'State': u'Noord-Holland', u'Transaction_date': u'1/6/09 12:27', u'Last_Login': u'1/19/09 4:59', u'Payment_Type': u'Mastercard', u'Latitude': u'52.35', u'Account_Created': u'1/6/09 12:04'}\n"
     ]
    }
   ],
   "source": [
    "query_2 = {\n",
    "  \"query\": {\n",
    "    \"match\":{\n",
    "      \"Country\" : \"Netherlands\"\n",
    "    }\n",
    "  }\n",
    "}\n",
    "\n",
    "res = es.search(index=\"product_details\", body = query_2)\n",
    "for hit in res['hits']['hits']:\n",
    " print hit['_source']"
   ]
  },
  {
   "cell_type": "code",
   "execution_count": 7,
   "metadata": {
    "collapsed": false
   },
   "outputs": [
    {
     "name": "stdout",
     "output_type": "stream",
     "text": [
      "find customers those who have bought product 3 using mastercard as mode of payment\n"
     ]
    }
   ],
   "source": [
    "#Query3\n",
    "print 'find customers those who have bought product 3 using mastercard as mode of payment'"
   ]
  },
  {
   "cell_type": "code",
   "execution_count": 8,
   "metadata": {
    "collapsed": false
   },
   "outputs": [
    {
     "name": "stdout",
     "output_type": "stream",
     "text": [
      "Diana\n",
      "Amanda\n",
      "Diana\n",
      "Brona\n",
      "Diana\n",
      "Amanda\n",
      "Anita\n",
      "Brona\n",
      "Brona\n",
      "Julianne\n"
     ]
    }
   ],
   "source": [
    "query_3 = {\n",
    "  \"query\": { \n",
    "    \"bool\": { \n",
    "      \"must\": [\n",
    "        { \"match\": { \"Product\":   \"Product3\"        }}, \n",
    "        { \"match\": { \"Payment_Type\": \"Mastercard\" }}  \n",
    "      ]\n",
    "    }\n",
    "  }\n",
    "}\n",
    "\n",
    "res = es.search(index=\"product_details\", body = query_3)\n",
    "\n",
    "for hit in res['hits']['hits']:\n",
    " print hit['_source']['Name']"
   ]
  },
  {
   "cell_type": "code",
   "execution_count": 9,
   "metadata": {
    "collapsed": false
   },
   "outputs": [
    {
     "name": "stdout",
     "output_type": "stream",
     "text": [
      "find countries or cities having name similar to Indai\n"
     ]
    }
   ],
   "source": [
    "#Query4\n",
    "print 'find countries or cities having name similar to Indai'"
   ]
  },
  {
   "cell_type": "code",
   "execution_count": 10,
   "metadata": {
    "collapsed": false
   },
   "outputs": [
    {
     "name": "stdout",
     "output_type": "stream",
     "text": [
      "India Hyderabad\n",
      "India Gurgaon\n",
      "India Gurgaon\n",
      "India Hyderabad\n",
      "India Gurgaon\n",
      "India Hyderabad\n",
      "India Hyderabad\n",
      "India Hyderabad\n",
      "India Gurgaon\n",
      "India Hyderabad\n",
      "India Gurgaon\n",
      "India Gurgaon\n",
      "India Gurgaon\n",
      "India Hyderabad\n",
      "India Hyderabad\n",
      "India Gurgaon\n"
     ]
    }
   ],
   "source": [
    "queryFuzzy = {\n",
    "\t\"query\":{\n",
    "        \"multi_match\" : {\n",
    "\t\t\t\"query\" : \"Indai\",\n",
    "\t\t\t\"fields\": [\"City\", \"Country\"],\n",
    "\t\t\t\"fuzziness\": \"AUTO\"\t\n",
    "\t\t}\n",
    "\t},\n",
    "\t\"_source\": [\"City\", \"Country\"],\n",
    "\t\"size\": 50\n",
    "}\n",
    "\n",
    "res=es.search(index=\"product_details\",body=queryFuzzy);\n",
    "\n",
    "for hit in res['hits']['hits']:\n",
    "\tprint hit['_source']['Country'],\n",
    "\tprint hit['_source']['City']\t"
   ]
  },
  {
   "cell_type": "code",
   "execution_count": 11,
   "metadata": {
    "collapsed": false
   },
   "outputs": [
    {
     "name": "stdout",
     "output_type": "stream",
     "text": [
      "find Countries in tropical region i.e. approximately having latitude b/w -30 and 30 degrees\n"
     ]
    }
   ],
   "source": [
    "#Query5\n",
    "print 'find Countries in tropical region i.e. approximately having latitude b/w -30 and 30 degrees'"
   ]
  },
  {
   "cell_type": "code",
   "execution_count": 12,
   "metadata": {
    "collapsed": false
   },
   "outputs": [
    {
     "name": "stdout",
     "output_type": "stream",
     "text": [
      "India\n",
      "United States\n",
      "United States\n",
      "Australia\n",
      "United States\n",
      "United States\n",
      "United States\n",
      "United States\n",
      "United States\n",
      "Hong Kong\n"
     ]
    }
   ],
   "source": [
    "queryRange={\n",
    "\t\"query\" :{\n",
    "                \"range\" : {\n",
    "                        'Latitude':{ \n",
    "                                \"gte\" : \"-30.0\",\n",
    "                                \"lte\" : \"30.0\"\n",
    "                                \n",
    "                                }\n",
    "                        }\n",
    "                \n",
    "                }\n",
    " \n",
    "}\n",
    "\n",
    "res=es.search(index=\"product_details\",body=queryRange);\n",
    "\n",
    "for hit in res['hits']['hits']:\n",
    "\tprint hit['_source']['Country']"
   ]
  },
  {
   "cell_type": "code",
   "execution_count": 13,
   "metadata": {
    "collapsed": true
   },
   "outputs": [],
   "source": [
    "#mapping as on kibana\n",
    "\n",
    "# PUT /exp2\n",
    "# {\n",
    "#   \"mappings\":{\n",
    "#     \"a\":{\n",
    "#       \"properties\":{\n",
    "#         \"name\":{\"type\":\"text\",\n",
    "#         \"index_options\":\"freqs\"\n",
    "#         }\n",
    "#       }\n",
    "#     }\n",
    "    \n",
    "#   }\n",
    "# }"
   ]
  },
  {
   "cell_type": "code",
   "execution_count": 15,
   "metadata": {
    "collapsed": false
   },
   "outputs": [
    {
     "name": "stdout",
     "output_type": "stream",
     "text": [
      "{u'hits': {u'hits': [{u'_score': 0.63215107, u'_type': u'a', u'_id': u'2', u'_source': {u'name': u'hello hello hello hello hello hello hello hello hello hello hello hello hello hello hello hello hello hello hello hello hello hello hello hello hello hello hello hello hello hello hello hello hello hello hello hello hello hello hello hello hello hello hello hello hello hello hello hello hello hello hello hello hello hello hello hello hello hello hello hello hello hello hello hello hello hello hello hello hello hello hello hello hello hello hello hello hello hello hello hello hello hello hello hello hello hello hello hello hello hello hello hello hello hello hello hello hello hello hello hello hello hello hello hello hello hello hello hello hello hello hello hello hello hello hello hello hello hello hello hello hello hello hello hello hello hello hello hello hello hello hello hello hello hello hello hello hello hello hello hello hello hello hello hello hello hello hello hello hello hello hello hello hello hello hello hello hello hello hello hello hello hello hello hello hello hello hello hello hello hello hello hello hello hello hello hello hello hello hello hello hello hello hello hello hello hello hello hello hello hello hello hello hello hello hello hello hello hello hello hello hello hello hello hello hello hello hello hello hello hello hello hello hello hello hello hello hello hello hello hello hello hello hello hello hello hello hello hello hello hello hello hello hello hello hello hello hello hello hello hello hello hello hello hello hello hello hello hello hello hello hello hello hello hello hello hello hello hello hello hello hello hello hello hello hello hello hello hello hello hello hello hello hello hello hello hello hello hello hello hello hello hello hello hello hello hello hello hello hello hello hello hello hello hello hello hello hello hello hello hello hello hello hello hello hello hello hello hello hello hello hello hello hello hello hello hello hello hello hello hello hello hello hello hello hello hello hello hello hello hello hello hello hello hello hello hello hello hello hello hello hello hello hello hello hello hello hello hello hello hello hello hello hello hello hello hello hello hello hello hello hello hello hello hello hello hello hello hello hello hello hello hello hello hello hello hello hello hello hello hello hello hello hello hello hello hello hello hello hello hello hello hello hello hello hello hello hello hello hello hello hello hello hello hello hello hello hello hello hello hello hello hello hello hello hello hello hello hello hello hello hello hello hello hello hello hello hello hello hello hello hello hello hello hello hello hello hello hello hello hello hello hello hello hello hello hello hello hello hello hello hello hello hello hello hello hello hello hello hello hello hello hello hello hello hello hello hello hello hello hello hello hello hello hello hello hello hello hello hello hello hello hello hello hello hello hello hello hello hello hello hello hello hello hello hello hello hello hello hello hello hello hello hello hello hello hello hello hello hello hello hello hello hello hello hello hello hello hello hello hello hello hello hello hello hello hello hello hello hello hello hello hello hello hello hello hello hello hello hello hello hello hello hello hello hello hello hello hello hello hello hello hello hello hello hello hello hello hello hello hello hello hello hello hello hello hello hello hello hello hello hello hello hello hello hello hello hello hello hello hello hello hello hello hello hello hello hello hello hello hello hello hello hello hello hello hello hello hello hello hello hello hello hello hello hello hello hello hello hello hello hello hello hello hello hello hello hello hello hello hello hello hello hello hello hello hello hello hello hello hello hello hello hello hello hello hello hello hello hello hello hello hello hello hello hello hello hello hello hello hello hello hello hello hello hello hello hello hello hello hello hello hello hello hello hello hello hello hello hello hello hello hello hello hello hello hello hello hello hello hello hello hello hello hello hello hello hello hello hello hello hello hello hello hello hello hello hello hello hello hello hello hello hello hello hello hello hello hello hello hello hello hello hello hello hello hello hello hello hello hello hello hello hello hello hello hello hello hello hello hello hello hello hello hello hello hello hello hello hello hello hello hello hello hello hello hello hello hello hello hello hello hello hello hello hello hello hello hello hello hello hello hello hello hello hello hello hello hello hello hello hello hello hello hello hello hello hello hello hello hello hello hello hello hello hello hello hello hello hello hello hello hello hello hello hello hello hello hello hello hello hello hello hello hello hello hello hello hello hello hello hello hello hello hello hello hello hello hello hello hello hello hello hello hello hello hello hello hello hello hello hello hello hello hello hello hello hello hello hello hello hello hello hello hello hello hello hello hello hello hello hello hello hello hello hello hello hello hello hello hello hello hello hello hello hello hello hello hello hello hello hello hello hello hello hello hello hello hello hello hello hello hello hello hello hello hello hello hello hello hello hello hello hello hello hello hello hello hello hello hello hello hello hello hello hello hello hello hello hello hello hello hello hello hello hello hello hello hello hello hello hello hello hello hello hello hello hello hello hello hello hello hello hello hello hello hello hello hello hello hello hello hello hello hello hello hello hello hello hello hello hello hello hello hello hello hello hello hello hello hello hello hello hello hello hello hello hello hello hello hello hello hello hello hello hello hello hello hello hello hello hello hello hello hello hello hello hello hello hello hello hello hello hello hello hello hello hello hello hello hello '}, u'_index': u'exp2'}, {u'_score': 0.2876821, u'_type': u'a', u'_id': u'1', u'_source': {u'name': u'hello '}, u'_index': u'exp2'}], u'total': 2, u'max_score': 0.63215107}, u'_shards': {u'successful': 5, u'failed': 0, u'skipped': 0, u'total': 5}, u'took': 0, u'timed_out': False}\n"
     ]
    }
   ],
   "source": [
    "#Query (where index_options : frequency )\n",
    "queryFreq={\n",
    "\t\"query\":{\n",
    "    \t\"match\":{\n",
    "      \t\t\"name\":\"hello\"\n",
    "    \t}\n",
    "  \t}\t\n",
    "}\n",
    "res=es.search(index=\"exp2\",body=queryFreq);\n",
    "\n",
    "print res"
   ]
  },
  {
   "cell_type": "code",
   "execution_count": 16,
   "metadata": {
    "collapsed": true
   },
   "outputs": [],
   "source": [
    "#mapping as on kibana\n",
    "\n",
    "# PUT /exp3\n",
    "# {\n",
    "#   \"mappings\":{\n",
    "#     \"a\":{\n",
    "#       \"properties\":{\n",
    "#         \"name\":{\"type\":\"text\",\n",
    "#         \"index_options\":\"offsets\"\n",
    "#         }\n",
    "#       }\n",
    "#     }\n",
    "    \n",
    "#   }\n",
    "# }\n"
   ]
  },
  {
   "cell_type": "code",
   "execution_count": 17,
   "metadata": {
    "collapsed": false
   },
   "outputs": [
    {
     "name": "stdout",
     "output_type": "stream",
     "text": [
      "{u'hits': {u'hits': [{u'_score': 0.2896948, u'_type': u'a', u'_id': u'2', u'_source': {u'name': u'hello hello hello hello hello hello hello hello hello hello hello hello hello hello hello hello hello hello hello hello hello hello hello hello hello hello hello hello hello hello hello hello hello hello hello hello hello hello hello hello hello hello hello hello hello hello hello hello hello hello hello hello hello hello hello hello hello hello hello hello hello hello hello hello hello hello hello hello hello hello hello hello hello hello hello hello hello hello hello hello hello hello hello hello hello hello hello hello hello hello hello hello hello hello hello hello hello hello hello hello hello hello hello hello hello hello hello hello hello hello hello hello hello hello hello hello hello hello hello hello hello hello hello hello hello hello hello hello hello hello hello hello hello hello hello hello hello hello hello hello hello hello hello hello hello hello hello hello hello hello hello hello hello hello hello hello hello hello hello hello hello hello hello hello hello hello hello hello hello hello hello hello hello hello hello hello hello hello hello hello hello hello hello hello hello hello hello hello hello hello hello hello hello hello hello hello hello hello hello hello hello hello hello hello hello hello hello hello hello hello hello hello hello hello hello hello hello hello hello hello hello hello hello hello hello hello hello hello hello hello hello hello hello hello hello hello hello hello hello helloG hello hello hello hello hello hello hello hello hello hello hello hello hello hello hello hello hello hello hello hello hello hello hello hello hello hello hello hello hello hello hello hello hello hello hello hello hello hello hello hello hello hello hello hello hello hello hello hello hello hello hello hello hello hello hello hello hello hello hello hello hello hello hello hello hello hello hello hello hello hello hello hello hello hello hello hello hello hello hello hello hello hello hello hello hello hello hello hello hello hello hello hello hello hello hello hello hello hello hello hello hello hello hello hello hello hello hello hello hello hello hello hello hello hello hello hello hello hello hello hello hello hello hello hello hello hello hello hello hello hello hello hello hello hello hello hello hello hello hello hello hello hello hello hello hello hello hello hello hello hello hello hello hello hello hello hello hello hello hello hello hello hello hello hello hello hello hello hello hello hello hello hello hello hello hello hello hello hello hello hello hello hello hello hello hello hello hello hello hello hello hello hello hello hello hello hello hello hello hello hello hello hello hello hello hello hello hello hello hello hello hello hello hello hello hello hello hello hello hello hello hello hello hello hello hello hello hello hello hello hello hello hello hello hello hello hello hello hello hello hello hello hello hello hello hello hello hello hello hello hello hello hello hello hello hello hello hello hello hello hello hello hello hello hello hello hello hello hello hello hello hello hello hello hello hello hello hello hello hello hello hello hello hello hello hello hello hello hello hello hello hello hello hello hello hello hello hello hello hello hello hello hello hello hello hello hello hello hello hello hello hello hello hello hello hello hello hello hello hello hello hello hello hello hello hello hello hello hello hello hello hello hello hello hello hello hello hello hello hello hello hello hello hello hello hello hello hello hello hello hello hello hello hello hello hello hello hello hello hello hello hello hello hello hello hello hello hello hello hello hello hello hello hello hello hello hello hello hello hello hello hello hello hello hello hello hello hello hello hello hello hello hello hello hello hello hello hello hello hello hello hello hello hello hello hello hello hello hello hello hello hello hello hello hello hello hello hello hello hello hello hello hello hello hello hello hello hello hello hello hello hello hello hello hello hello hello hello hello hello hello hello hello hello hello hello hello hello hello hello hello hello hello hello hello hello hello hello hello hello hello hello hello hello hello hello hello hello hello hello hello hello hello hello hello hello hello hello hello hello hello hello hello hello hello hello hello hello hello hello hello hello hello hello hello hello hello hello hello hello hello hello hello hello hello hello hello hello hello hello hello hello hello hello hello hello hello hello hello hello hello hello hello hello hello hello hello hello hello hello hello hello hello hello hello hello hello hello hello hello hello hello hello hello hello hello hello hello hello hello hello hello hello hello hello hello hello hello hello hello hello hello hello hello hello hello hello hello hello hello hello hello hello hello hello hello hello hello hello hello hello hello hello hello hello hello hello hello hello hello hello hello hello hello hello hello hello hello hello hello hello hello hello hello hello hello hello hello hello hello hello hello hello hello hello hello hello hello hello hello hello hello hello hello hello hello hello hello hello hello hello hello hello hello hello hello hello hello hello hello hello hello hello hello hello hello hello hello hello hello hello hello hello hello hello hello hello hello hello hello hello hello hello hello hello hello hello hello hello hello hello hello hello hello hello hello hello hello hello hello hello hello hello hello hello hello hello hello hello hello hello hello hello hello hello hello hello hello hello hello hello hello hello hello hello hello hello hello hello hello hello hello hello hello hello hello hello hello hello hello hello hello hello hello hello hello hello hello hello hello hello hello hello hello hello hello hello hello hello hello hello hello hello hello hello hello hello hello hello hello hello hello hello hello hello hello hello hello hello hello hello world'}, u'_index': u'exp3'}, {u'_score': 0.2895775, u'_type': u'a', u'_id': u'3', u'_source': {u'name': u'hello hello hello hello hello hello hello hello hello hello hello hello hello hello hello hello hello hello hello hello hello hello hello hello hello hello hello hello hello hello hello hello hello hello hello hello hello hello hello hello hello hello hello hello hello hello hello hello hello hello hello hello hello hello hello hello hello hello hello hello hello hello hello hello hello hello hello hello hello hello hello hello hello hello hello hello hello hello hello hello hello hello hello hello hello hello hello hello hello hello hello hello hello hello hello hello hello hello hello hello hello hello hello hello hello hello hello hello hello hello hello hello hello hello hello hello hello hello hello hello hello hello hello hello hello hello hello hello hello hello hello hello world hello hello hello hello hello hello hello hello hello hello hello hello hello hello hello hello hello hello hello hello hello hello hello hello hello hello hello hello hello hello hello hello hello hello hello hello hello hello hello hello hello hello hello hello hello hello hello hello hello hello hello hello hello hello hello hello hello hello hello hello hello hello hello hello hello hello hello hello hello hello hello hello hello hello hello hello hello hello hello hello hello hello hello hello hello hello hello hello hello hello hello hello hello hello hello hello hello hello hello hello hello hello hello hello hello hello helloG hello hello hello hello hello hello hello hello hello hello hello hello hello hello hello hello hello hello hello hello hello hello hello hello hello hello hello hello hello hello hello hello hello hello hello hello hello hello hello hello hello hello hello hello hello hello hello hello hello hello hello hello hello hello hello hello hello hello hello hello hello hello hello hello hello hello hello hello hello hello hello hello hello hello hello hello hello hello hello hello hello hello hello hello hello hello hello hello hello hello hello hello hello hello hello hello hello hello hello hello hello hello hello hello hello hello hello hello hello hello hello hello hello hello hello hello hello hello hello hello hello hello hello hello hello hello hello hello hello hello hello hello hello hello hello hello hello hello hello hello hello hello hello hello hello hello hello hello hello hello hello hello hello hello hello hello hello hello hello hello hello hello hello hello hello hello hello hello hello hello hello hello hello hello hello hello hello hello hello hello hello hello hello hello hello hello hello hello hello hello hello hello hello hello hello hello hello hello hello hello hello hello hello hello hello hello hello hello hello hello hello hello hello hello hello hello hello hello hello hello hello hello hello hello hello hello hello hello hello hello hello hello hello hello hello hello hello hello hello hello hello hello hello hello hello hello hello hello hello hello hello hello hello hello hello hello hello hello hello hello hello hello hello hello hello hello hello hello hello hello hello hello hello hello hello hello hello hello hello hello hello hello hello hello hello hello hello hello hello hello hello hello hello hello hello hello hello hello hello hello hello hello hello hello hello hello hello hello hello hello hello hello hello hello hello hello hello hello hello hello hello hello hello hello hello hello hello hello hello hello hello hello hello hello hello hello hello hello hello hello hello hello hello hello hello hello hello hello hello hello hello hello hello hello hello hello hello hello hello hello hello hello hello hello hello hello hello hello hello hello hello hello hello hello hello hello hello hello hello hello hello hello hello hello hello hello hello hello hello hello hello hello hello hello hello hello hello hello hello hello hello hello hello hello hello hello hello hello hello hello hello hello hello hello hello hello hello hello hello hello hello hello hello hello hello hello hello hello hello hello hello hello hello hello hello hello hello hello hello hello hello hello hello hello hello hello hello hello hello hello hello hello hello hello hello hello hello hello hello hello hello hello hello hello hello hello hello hello hello hello hello hello hello hello hello hello hello hello hello hello hello hello hello hello hello hello hello hello hello hello hello hello hello hello hello hello hello hello hello hello hello hello hello hello hello hello hello hello hello hello hello hello hello hello hello hello hello hello hello hello hello hello hello hello hello hello hello hello hello hello hello hello hello hello hello hello hello hello hello hello hello hello hello hello hello hello hello hello hello hello hello hello hello hello hello hello hello hello hello hello hello hello hello hello hello hello hello hello hello hello hello hello hello hello hello hello hello hello hello hello hello hello hello hello hello hello hello hello hello hello hello hello hello hello hello hello hello hello hello hello hello hello hello hello hello hello hello hello hello hello hello hello hello hello hello hello hello hello hello hello hello hello hello hello hello hello hello hello hello hello hello hello hello hello hello hello hello hello hello hello hello hello hello hello hello hello hello hello hello hello hello hello hello hello hello hello hello hello hello hello hello hello hello hello hello hello hello hello hello hello hello hello hello hello hello hello hello hello hello hello hello hello hello hello hello hello hello hello hello hello hello hello hello hello hello hello hello hello hello hello hello hello hello hello hello hello hello hello hello hello hello hello hello hello hello hello hello hello hello hello hello hello hello hello hello hello hello hello hello hello hello hello hello hello hello hello hello hello hello hello hello hello hello hello hello hello hello hello hello hello hello hello hello hello hello hello hello hello hello hello '}, u'_index': u'exp3'}, {u'_score': 0.2876821, u'_type': u'a', u'_id': u'1', u'_source': {u'name': u'hello world '}, u'_index': u'exp3'}], u'total': 3, u'max_score': 0.2896948}, u'_shards': {u'successful': 5, u'failed': 0, u'skipped': 0, u'total': 5}, u'took': 1, u'timed_out': False}\n"
     ]
    }
   ],
   "source": [
    "#Query (where index_options : offsets )\n",
    "queryOffset={\n",
    "\t\"query\":{\n",
    "    \t\"match\":{\n",
    "      \t\t\"name\":\"world\"\n",
    "    \t}\n",
    "  \t}\t\n",
    "}\n",
    "res=es.search(index=\"exp3\",body=queryOffset);\n",
    "print res"
   ]
  },
  {
   "cell_type": "code",
   "execution_count": 18,
   "metadata": {
    "collapsed": true
   },
   "outputs": [],
   "source": [
    "#mapping as on kibana\n",
    "\n",
    "# PUT /exp4\n",
    "# {\n",
    "#   \"mappings\":{\n",
    "#     \"a\":{\n",
    "#       \"properties\":{\n",
    "#         \"name\":{\"type\":\"text\",\n",
    "#         \"index_options\":\"positions\"\n",
    "#         }\n",
    "#       }\n",
    "#     }\n",
    "    \n",
    "#   }\n",
    "# }"
   ]
  },
  {
   "cell_type": "code",
   "execution_count": 19,
   "metadata": {
    "collapsed": false
   },
   "outputs": [
    {
     "name": "stdout",
     "output_type": "stream",
     "text": [
      "{u'hits': {u'hits': [{u'_score': 0.8630463, u'_type': u'a', u'_id': u'1', u'_source': {u'name': u'hello how are you ? '}, u'_index': u'exp4'}, {u'_score': 0.2876821, u'_type': u'a', u'_id': u'2', u'_source': {u'name': u' how ohoh wt ywrhojojoj ? '}, u'_index': u'exp4'}], u'total': 2, u'max_score': 0.8630463}, u'_shards': {u'successful': 5, u'failed': 0, u'skipped': 0, u'total': 5}, u'took': 0, u'timed_out': False}\n"
     ]
    }
   ],
   "source": [
    "#Query (where index_options : position )\n",
    "queryPosition={\n",
    "\t\"query\":{\n",
    "    \t\"match\":{\n",
    "      \t\t\"name\":\"hello how you ?\"\n",
    "    \t}\n",
    "  \t}\n",
    "}\n",
    "res=es.search(index=\"exp4\",body=queryPosition);\n",
    "print res"
   ]
  },
  {
   "cell_type": "code",
   "execution_count": null,
   "metadata": {
    "collapsed": true
   },
   "outputs": [],
   "source": []
  }
 ],
 "metadata": {
  "kernelspec": {
   "display_name": "Python [Root]",
   "language": "python",
   "name": "Python [Root]"
  },
  "language_info": {
   "codemirror_mode": {
    "name": "ipython",
    "version": 2
   },
   "file_extension": ".py",
   "mimetype": "text/x-python",
   "name": "python",
   "nbconvert_exporter": "python",
   "pygments_lexer": "ipython2",
   "version": "2.7.12"
  }
 },
 "nbformat": 4,
 "nbformat_minor": 0
}
