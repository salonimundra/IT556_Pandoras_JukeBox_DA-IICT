{
  "nbformat": 4,
  "nbformat_minor": 0,
  "metadata": {
    "colab": {
      "name": "SVD_ColloberativeFiltering.ipynb",
      "version": "0.3.2",
      "views": {},
      "default_view": {},
      "provenance": []
    },
    "kernelspec": {
      "name": "python2",
      "display_name": "Python 2"
    },
    "accelerator": "GPU"
  },
  "cells": [
    {
      "metadata": {
        "id": "VahBXKE7iFAs",
        "colab_type": "code",
        "colab": {
          "autoexec": {
            "startup": false,
            "wait_interval": 0
          }
        }
      },
      "cell_type": "code",
      "source": [
        "# importing necessary libraries\n",
        "\n",
        "from sklearn.decomposition import TruncatedSVD\n",
        "from sklearn.random_projection import sparse_random_matrix\n",
        "import numpy as np\n",
        "import timeit"
      ],
      "execution_count": 0,
      "outputs": []
    },
    {
      "metadata": {
        "id": "Auppt-QMjbEK",
        "colab_type": "code",
        "colab": {
          "autoexec": {
            "startup": false,
            "wait_interval": 0
          }
        }
      },
      "cell_type": "code",
      "source": [
        "# generate a random matrix of user ratings for music items\n",
        "# users = 1 million\n",
        "# music items = 5 million\n",
        "\n",
        "n_users = 10000\n",
        "n_music_items = 50000"
      ],
      "execution_count": 0,
      "outputs": []
    },
    {
      "metadata": {
        "id": "78HrutIhku1t",
        "colab_type": "code",
        "colab": {
          "autoexec": {
            "startup": false,
            "wait_interval": 0
          }
        }
      },
      "cell_type": "code",
      "source": [
        "X = sparse_random_matrix(n_music_items,n_users, density=0.01, random_state=45)"
      ],
      "execution_count": 0,
      "outputs": []
    },
    {
      "metadata": {
        "id": "i6_TPTD4QTTy",
        "colab_type": "text"
      },
      "cell_type": "markdown",
      "source": [
        "# **SKLEARN**"
      ]
    },
    {
      "metadata": {
        "id": "SFhp1UE-QSSH",
        "colab_type": "code",
        "colab": {
          "autoexec": {
            "startup": false,
            "wait_interval": 0
          }
        }
      },
      "cell_type": "code",
      "source": [
        "svd = TruncatedSVD(n_components=5, n_iter=7, random_state=123)"
      ],
      "execution_count": 0,
      "outputs": []
    },
    {
      "metadata": {
        "id": "o4AokADJMMc-",
        "colab_type": "code",
        "colab": {
          "autoexec": {
            "startup": false,
            "wait_interval": 0
          }
        }
      },
      "cell_type": "code",
      "source": [
        "from sklearn.preprocessing import normalize\n",
        "x = np.absolute(X)\n",
        "x_normalized = normalize(x, norm='l1', axis=0)"
      ],
      "execution_count": 0,
      "outputs": []
    },
    {
      "metadata": {
        "id": "-aq3vDqpLci5",
        "colab_type": "code",
        "colab": {
          "autoexec": {
            "startup": false,
            "wait_interval": 0
          },
          "output_extras": [
            {
              "item_id": 1
            }
          ],
          "base_uri": "https://localhost:8080/",
          "height": 964
        },
        "outputId": "314c586d-f9bc-462d-dff6-ed3c55a27274",
        "executionInfo": {
          "status": "ok",
          "timestamp": 1520270790020,
          "user_tz": -330,
          "elapsed": 1675,
          "user": {
            "displayName": "saprem shah",
            "photoUrl": "https://lh3.googleusercontent.com/a/default-user=s128",
            "userId": "118405894786681012982"
          }
        }
      },
      "cell_type": "code",
      "source": [
        "print x_normalized"
      ],
      "execution_count": 39,
      "outputs": [
        {
          "output_type": "stream",
          "text": [
            "  (234, 0)\t0.0020080321285140474\n",
            "  (284, 0)\t0.0020080321285140474\n",
            "  (554, 0)\t0.0020080321285140474\n",
            "  (654, 0)\t0.0020080321285140474\n",
            "  (655, 0)\t0.0020080321285140474\n",
            "  (715, 0)\t0.0020080321285140474\n",
            "  (718, 0)\t0.0020080321285140474\n",
            "  (1068, 0)\t0.0020080321285140474\n",
            "  (1081, 0)\t0.0020080321285140474\n",
            "  (1168, 0)\t0.0020080321285140474\n",
            "  (1178, 0)\t0.0020080321285140474\n",
            "  (1329, 0)\t0.0020080321285140474\n",
            "  (1401, 0)\t0.0020080321285140474\n",
            "  (1410, 0)\t0.0020080321285140474\n",
            "  (1418, 0)\t0.0020080321285140474\n",
            "  (1505, 0)\t0.0020080321285140474\n",
            "  (1834, 0)\t0.0020080321285140474\n",
            "  (1864, 0)\t0.0020080321285140474\n",
            "  (2001, 0)\t0.0020080321285140474\n",
            "  (2009, 0)\t0.0020080321285140474\n",
            "  (2108, 0)\t0.0020080321285140474\n",
            "  (2568, 0)\t0.0020080321285140474\n",
            "  (2597, 0)\t0.0020080321285140474\n",
            "  (2614, 0)\t0.0020080321285140474\n",
            "  (2654, 0)\t0.0020080321285140474\n",
            "  :\t:\n",
            "  (46772, 9999)\t0.0021367521367521274\n",
            "  (46845, 9999)\t0.0021367521367521274\n",
            "  (46956, 9999)\t0.0021367521367521274\n",
            "  (47223, 9999)\t0.0021367521367521274\n",
            "  (47226, 9999)\t0.0021367521367521274\n",
            "  (47249, 9999)\t0.0021367521367521274\n",
            "  (47816, 9999)\t0.0021367521367521274\n",
            "  (47987, 9999)\t0.0021367521367521274\n",
            "  (48174, 9999)\t0.0021367521367521274\n",
            "  (48177, 9999)\t0.0021367521367521274\n",
            "  (48208, 9999)\t0.0021367521367521274\n",
            "  (48272, 9999)\t0.0021367521367521274\n",
            "  (48362, 9999)\t0.0021367521367521274\n",
            "  (48435, 9999)\t0.0021367521367521274\n",
            "  (48455, 9999)\t0.0021367521367521274\n",
            "  (48629, 9999)\t0.0021367521367521274\n",
            "  (48690, 9999)\t0.0021367521367521274\n",
            "  (48699, 9999)\t0.0021367521367521274\n",
            "  (48872, 9999)\t0.0021367521367521274\n",
            "  (48895, 9999)\t0.0021367521367521274\n",
            "  (48944, 9999)\t0.0021367521367521274\n",
            "  (48959, 9999)\t0.0021367521367521274\n",
            "  (49205, 9999)\t0.0021367521367521274\n",
            "  (49395, 9999)\t0.0021367521367521274\n",
            "  (49878, 9999)\t0.0021367521367521274\n"
          ],
          "name": "stdout"
        }
      ]
    },
    {
      "metadata": {
        "id": "b4jCyFGjkv_-",
        "colab_type": "code",
        "colab": {
          "autoexec": {
            "startup": false,
            "wait_interval": 0
          }
        }
      },
      "cell_type": "code",
      "source": [
        "start = timeit.default_timer()\n",
        "svd.fit(b_normalized)\n",
        "stop = timeit.default_timer()"
      ],
      "execution_count": 0,
      "outputs": []
    },
    {
      "metadata": {
        "id": "mMWR2freBUsZ",
        "colab_type": "text"
      },
      "cell_type": "markdown",
      "source": [
        "# **speed (time taken)**"
      ]
    },
    {
      "metadata": {
        "id": "uVPfkjTRknP8",
        "colab_type": "code",
        "colab": {
          "autoexec": {
            "startup": false,
            "wait_interval": 0
          },
          "output_extras": [
            {
              "item_id": 1
            }
          ],
          "base_uri": "https://localhost:8080/",
          "height": 36
        },
        "outputId": "5e1c294e-cca8-4b97-856e-8c24970da12f",
        "executionInfo": {
          "status": "ok",
          "timestamp": 1520270801544,
          "user_tz": -330,
          "elapsed": 1364,
          "user": {
            "displayName": "saprem shah",
            "photoUrl": "https://lh3.googleusercontent.com/a/default-user=s128",
            "userId": "118405894786681012982"
          }
        }
      },
      "cell_type": "code",
      "source": [
        "print stop-start"
      ],
      "execution_count": 41,
      "outputs": [
        {
          "output_type": "stream",
          "text": [
            "2.15900015831\n"
          ],
          "name": "stdout"
        }
      ]
    },
    {
      "metadata": {
        "id": "mPxsHA9HBlKN",
        "colab_type": "text"
      },
      "cell_type": "markdown",
      "source": [
        "# **memory utilization**"
      ]
    },
    {
      "metadata": {
        "id": "DcX7dGP2mEAs",
        "colab_type": "code",
        "colab": {
          "autoexec": {
            "startup": false,
            "wait_interval": 0
          },
          "output_extras": [
            {
              "item_id": 1
            }
          ],
          "base_uri": "https://localhost:8080/",
          "height": 36
        },
        "outputId": "10a98bb9-039f-4551-9bc2-acb59277cc39",
        "executionInfo": {
          "status": "ok",
          "timestamp": 1520270817148,
          "user_tz": -330,
          "elapsed": 1233,
          "user": {
            "displayName": "saprem shah",
            "photoUrl": "https://lh3.googleusercontent.com/a/default-user=s128",
            "userId": "118405894786681012982"
          }
        }
      },
      "cell_type": "code",
      "source": [
        "import sys\n",
        "print sys.getsizeof(svd),sys.getsizeof(X) "
      ],
      "execution_count": 42,
      "outputs": [
        {
          "output_type": "stream",
          "text": [
            "64 64\n"
          ],
          "name": "stdout"
        }
      ]
    },
    {
      "metadata": {
        "id": "K8iyGqeXtRTP",
        "colab_type": "code",
        "colab": {
          "autoexec": {
            "startup": false,
            "wait_interval": 0
          },
          "output_extras": [
            {
              "item_id": 1
            }
          ],
          "base_uri": "https://localhost:8080/",
          "height": 258
        },
        "outputId": "a06e00e8-e24c-4ae6-f6cb-ba6ede39bb90",
        "executionInfo": {
          "status": "ok",
          "timestamp": 1520270820128,
          "user_tz": -330,
          "elapsed": 1332,
          "user": {
            "displayName": "saprem shah",
            "photoUrl": "https://lh3.googleusercontent.com/a/default-user=s128",
            "userId": "118405894786681012982"
          }
        }
      },
      "cell_type": "code",
      "source": [
        "##printing the values of the decomposed components\n",
        "print(\"VT\")\n",
        "print(svd.components_)  \n",
        "print(\"Sigma\")\n",
        "print(svd.singular_values_)"
      ],
      "execution_count": 43,
      "outputs": [
        {
          "output_type": "stream",
          "text": [
            "VT\n",
            "[[ 0.00998653  0.01002046  0.01006625 ...  0.00998956  0.00994894\n",
            "   0.00997071]\n",
            " [-0.0192061  -0.00264812 -0.00685641 ... -0.03111749 -0.01327087\n",
            "  -0.00676885]\n",
            " [ 0.00386587  0.01168584  0.00520264 ...  0.0148165  -0.00097988\n",
            "   0.01013017]\n",
            " [ 0.00174292  0.00392516 -0.00325744 ... -0.00613744 -0.00048666\n",
            "   0.00316204]\n",
            " [-0.00208161  0.00036121 -0.01118827 ... -0.00054636 -0.01055634\n",
            "   0.01307337]]\n",
            "Sigma\n",
            "[0.44943705 0.06218267 0.06200957 0.06192296 0.06188153]\n"
          ],
          "name": "stdout"
        }
      ]
    },
    {
      "metadata": {
        "id": "xsBhqSdhQd55",
        "colab_type": "text"
      },
      "cell_type": "markdown",
      "source": [
        "# **GENSIM**"
      ]
    },
    {
      "metadata": {
        "id": "67isDZvWl_sb",
        "colab_type": "code",
        "colab": {
          "autoexec": {
            "startup": false,
            "wait_interval": 0
          },
          "output_extras": [
            {
              "item_id": 1
            }
          ],
          "base_uri": "https://localhost:8080/",
          "height": 390
        },
        "outputId": "57d1a87d-80ad-4d91-abaf-061b3689b844",
        "executionInfo": {
          "status": "ok",
          "timestamp": 1520260816428,
          "user_tz": -330,
          "elapsed": 3076,
          "user": {
            "displayName": "saprem shah",
            "photoUrl": "https://lh3.googleusercontent.com/a/default-user=s128",
            "userId": "118405894786681012982"
          }
        }
      },
      "cell_type": "code",
      "source": [
        "!pip install gensim"
      ],
      "execution_count": 22,
      "outputs": [
        {
          "output_type": "stream",
          "text": [
            "Requirement already satisfied: gensim in /usr/local/lib/python2.7/dist-packages\n",
            "Requirement already satisfied: smart-open>=1.2.1 in /usr/local/lib/python2.7/dist-packages (from gensim)\n",
            "Requirement already satisfied: six>=1.5.0 in /usr/local/lib/python2.7/dist-packages (from gensim)\n",
            "Requirement already satisfied: scipy>=0.18.1 in /usr/local/lib/python2.7/dist-packages (from gensim)\n",
            "Requirement already satisfied: numpy>=1.11.3 in /usr/local/lib/python2.7/dist-packages (from gensim)\n",
            "Requirement already satisfied: bz2file in /usr/local/lib/python2.7/dist-packages (from smart-open>=1.2.1->gensim)\n",
            "Requirement already satisfied: boto>=2.32 in /usr/local/lib/python2.7/dist-packages (from smart-open>=1.2.1->gensim)\n",
            "Requirement already satisfied: requests in /usr/local/lib/python2.7/dist-packages (from smart-open>=1.2.1->gensim)\n",
            "Requirement already satisfied: boto3 in /usr/local/lib/python2.7/dist-packages (from smart-open>=1.2.1->gensim)\n",
            "Requirement already satisfied: idna<2.7,>=2.5 in /usr/local/lib/python2.7/dist-packages (from requests->smart-open>=1.2.1->gensim)\n",
            "Requirement already satisfied: urllib3<1.23,>=1.21.1 in /usr/local/lib/python2.7/dist-packages (from requests->smart-open>=1.2.1->gensim)\n",
            "Requirement already satisfied: certifi>=2017.4.17 in /usr/local/lib/python2.7/dist-packages (from requests->smart-open>=1.2.1->gensim)\n",
            "Requirement already satisfied: chardet<3.1.0,>=3.0.2 in /usr/local/lib/python2.7/dist-packages (from requests->smart-open>=1.2.1->gensim)\n",
            "Requirement already satisfied: jmespath<1.0.0,>=0.7.1 in /usr/local/lib/python2.7/dist-packages (from boto3->smart-open>=1.2.1->gensim)\n",
            "Requirement already satisfied: botocore<1.10.0,>=1.9.3 in /usr/local/lib/python2.7/dist-packages (from boto3->smart-open>=1.2.1->gensim)\n",
            "Requirement already satisfied: s3transfer<0.2.0,>=0.1.10 in /usr/local/lib/python2.7/dist-packages (from boto3->smart-open>=1.2.1->gensim)\n",
            "Requirement already satisfied: docutils>=0.10 in /usr/local/lib/python2.7/dist-packages (from botocore<1.10.0,>=1.9.3->boto3->smart-open>=1.2.1->gensim)\n",
            "Requirement already satisfied: python-dateutil<3.0.0,>=2.1 in /usr/local/lib/python2.7/dist-packages (from botocore<1.10.0,>=1.9.3->boto3->smart-open>=1.2.1->gensim)\n",
            "Requirement already satisfied: futures<4.0.0,>=2.2.0; python_version == \"2.6\" or python_version == \"2.7\" in /usr/local/lib/python2.7/dist-packages (from s3transfer<0.2.0,>=0.1.10->boto3->smart-open>=1.2.1->gensim)\n"
          ],
          "name": "stdout"
        }
      ]
    },
    {
      "metadata": {
        "id": "TpEMbPUw57ND",
        "colab_type": "code",
        "colab": {
          "autoexec": {
            "startup": false,
            "wait_interval": 0
          }
        }
      },
      "cell_type": "code",
      "source": [
        "import gensim\n",
        "start = timeit.default_timer()\n",
        "mat= gensim.models.lsimodel.stochastic_svd(X,2,50000)\n",
        "stop = timeit.default_timer()"
      ],
      "execution_count": 0,
      "outputs": []
    },
    {
      "metadata": {
        "id": "hwT2vJiKBs18",
        "colab_type": "text"
      },
      "cell_type": "markdown",
      "source": [
        "# **Speed (Time Taken)**"
      ]
    },
    {
      "metadata": {
        "id": "cugKHPxclbFt",
        "colab_type": "code",
        "colab": {
          "autoexec": {
            "startup": false,
            "wait_interval": 0
          },
          "output_extras": [
            {
              "item_id": 1
            }
          ],
          "base_uri": "https://localhost:8080/",
          "height": 36
        },
        "outputId": "0877ed1d-75f4-4b8b-b353-b050ddaa9e73",
        "executionInfo": {
          "status": "ok",
          "timestamp": 1520270836416,
          "user_tz": -330,
          "elapsed": 1378,
          "user": {
            "displayName": "saprem shah",
            "photoUrl": "https://lh3.googleusercontent.com/a/default-user=s128",
            "userId": "118405894786681012982"
          }
        }
      },
      "cell_type": "code",
      "source": [
        "print stop-start"
      ],
      "execution_count": 45,
      "outputs": [
        {
          "output_type": "stream",
          "text": [
            "0.127331018448\n"
          ],
          "name": "stdout"
        }
      ]
    },
    {
      "metadata": {
        "id": "9zjDNvX7Bzfo",
        "colab_type": "text"
      },
      "cell_type": "markdown",
      "source": [
        "# **Memory Utilization**"
      ]
    },
    {
      "metadata": {
        "id": "ZEsoQ5M9m28N",
        "colab_type": "code",
        "colab": {
          "autoexec": {
            "startup": false,
            "wait_interval": 0
          },
          "output_extras": [
            {
              "item_id": 1
            }
          ],
          "base_uri": "https://localhost:8080/",
          "height": 36
        },
        "outputId": "82091272-3836-43a1-cb14-9c124657dc87",
        "executionInfo": {
          "status": "ok",
          "timestamp": 1520270842143,
          "user_tz": -330,
          "elapsed": 1492,
          "user": {
            "displayName": "saprem shah",
            "photoUrl": "https://lh3.googleusercontent.com/a/default-user=s128",
            "userId": "118405894786681012982"
          }
        }
      },
      "cell_type": "code",
      "source": [
        "print sys.getsizeof(svd)"
      ],
      "execution_count": 46,
      "outputs": [
        {
          "output_type": "stream",
          "text": [
            "64\n"
          ],
          "name": "stdout"
        }
      ]
    },
    {
      "metadata": {
        "id": "S60xJooYmXSC",
        "colab_type": "code",
        "colab": {
          "autoexec": {
            "startup": false,
            "wait_interval": 0
          },
          "output_extras": [
            {
              "item_id": 1
            }
          ],
          "base_uri": "https://localhost:8080/",
          "height": 36
        },
        "outputId": "82e71f9f-9724-4d61-c6cf-e94c859d6dcc",
        "executionInfo": {
          "status": "ok",
          "timestamp": 1520270844883,
          "user_tz": -330,
          "elapsed": 1708,
          "user": {
            "displayName": "saprem shah",
            "photoUrl": "https://lh3.googleusercontent.com/a/default-user=s128",
            "userId": "118405894786681012982"
          }
        }
      },
      "cell_type": "code",
      "source": [
        "#sigma (singular value of corpus)\n",
        "print mat[1]"
      ],
      "execution_count": 47,
      "outputs": [
        {
          "output_type": "stream",
          "text": [
            "[0.46064843 0.45576656]\n"
          ],
          "name": "stdout"
        }
      ]
    },
    {
      "metadata": {
        "id": "gnRlYgTDm9Vq",
        "colab_type": "code",
        "colab": {
          "autoexec": {
            "startup": false,
            "wait_interval": 0
          },
          "output_extras": [
            {
              "item_id": 1
            }
          ],
          "base_uri": "https://localhost:8080/",
          "height": 147
        },
        "outputId": "6bcd67f9-20e9-4e93-b5ca-871f7d5b5b06",
        "executionInfo": {
          "status": "ok",
          "timestamp": 1520270846880,
          "user_tz": -330,
          "elapsed": 1123,
          "user": {
            "displayName": "saprem shah",
            "photoUrl": "https://lh3.googleusercontent.com/a/default-user=s128",
            "userId": "118405894786681012982"
          }
        }
      },
      "cell_type": "code",
      "source": [
        "#left singular value\n",
        "print mat[0]"
      ],
      "execution_count": 48,
      "outputs": [
        {
          "output_type": "stream",
          "text": [
            "[[ 0.00639344 -0.00076639]\n",
            " [-0.01236334  0.00993784]\n",
            " [-0.00193718 -0.00540985]\n",
            " ...\n",
            " [ 0.          0.        ]\n",
            " [ 0.          0.        ]\n",
            " [ 0.          0.        ]]\n"
          ],
          "name": "stdout"
        }
      ]
    },
    {
      "metadata": {
        "id": "yT3aRIfmOYDK",
        "colab_type": "text"
      },
      "cell_type": "markdown",
      "source": [
        "# **Benchmark  (comparison)**"
      ]
    },
    {
      "metadata": {
        "id": "7-__tc5NNIMR",
        "colab_type": "text"
      },
      "cell_type": "markdown",
      "source": [
        "We found that in terms of time taken, the gensim method to compute SVD is almost 200 times faster than Sklearn SVD method.\n",
        "\n",
        "However when we compared memory utilization it was almost the same.\n",
        "\n",
        "Also the benefit of Gensim is that the whole matrix need not to be loaded into the RAM but can be operated in chunks."
      ]
    },
    {
      "metadata": {
        "id": "If35K-mQJFsC",
        "colab_type": "code",
        "colab": {
          "autoexec": {
            "startup": false,
            "wait_interval": 0
          }
        }
      },
      "cell_type": "code",
      "source": [
        ""
      ],
      "execution_count": 0,
      "outputs": []
    }
  ]
}