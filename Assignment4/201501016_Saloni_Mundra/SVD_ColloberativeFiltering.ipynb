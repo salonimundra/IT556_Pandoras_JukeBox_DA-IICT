{
  "nbformat": 4,
  "nbformat_minor": 0,
  "metadata": {
    "colab": {
      "name": "SVD_ColloberativeFiltering.ipynb",
      "version": "0.3.2",
      "views": {},
      "default_view": {},
      "provenance": []
    },
    "kernelspec": {
      "name": "python2",
      "display_name": "Python 2"
    },
    "accelerator": "GPU"
  },
  "cells": [
    {
      "metadata": {
        "id": "VahBXKE7iFAs",
        "colab_type": "code",
        "colab": {
          "autoexec": {
            "startup": false,
            "wait_interval": 0
          }
        }
      },
      "cell_type": "code",
      "source": [
        "# importing necessary libraries\n",
        "\n",
        "from sklearn.decomposition import TruncatedSVD\n",
        "from sklearn.random_projection import sparse_random_matrix\n",
        "import numpy as np\n",
        "import timeit"
      ],
      "execution_count": 0,
      "outputs": []
    },
    {
      "metadata": {
        "id": "Auppt-QMjbEK",
        "colab_type": "code",
        "colab": {
          "autoexec": {
            "startup": false,
            "wait_interval": 0
          }
        }
      },
      "cell_type": "code",
      "source": [
        "# generate a random matrix of user ratings for music items\n",
        "# users = 1 million\n",
        "# music items = 5 million\n",
        "\n",
        "n_users = 10000\n",
        "n_music_items = 50000"
      ],
      "execution_count": 0,
      "outputs": []
    },
    {
      "metadata": {
        "id": "78HrutIhku1t",
        "colab_type": "code",
        "colab": {
          "autoexec": {
            "startup": false,
            "wait_interval": 0
          }
        }
      },
      "cell_type": "code",
      "source": [
        "X = sparse_random_matrix(n_music_items,n_users, density=0.01, random_state=45)"
      ],
      "execution_count": 0,
      "outputs": []
    },
    {
      "metadata": {
        "id": "i6_TPTD4QTTy",
        "colab_type": "text"
      },
      "cell_type": "markdown",
      "source": [
        "# **SKLEARN**"
      ]
    },
    {
      "metadata": {
        "id": "SFhp1UE-QSSH",
        "colab_type": "code",
        "colab": {
          "autoexec": {
            "startup": false,
            "wait_interval": 0
          }
        }
      },
      "cell_type": "code",
      "source": [
        "svd = TruncatedSVD(n_components=5, n_iter=7, random_state=123)"
      ],
      "execution_count": 0,
      "outputs": []
    },
    {
      "metadata": {
        "id": "o4AokADJMMc-",
        "colab_type": "code",
        "colab": {
          "autoexec": {
            "startup": false,
            "wait_interval": 0
          }
        }
      },
      "cell_type": "code",
      "source": [
        "#normalization and squash the  value between 0 and 1\n",
        "from sklearn.preprocessing import normalize\n",
        "x = np.absolute(X)\n",
        "x_normalized = normalize(x, norm='l1', axis=0)"
      ],
      "execution_count": 0,
      "outputs": []
    },
    {
      "metadata": {
        "id": "-aq3vDqpLci5",
        "colab_type": "code",
        "colab": {
          "autoexec": {
            "startup": false,
            "wait_interval": 0
          },
          "output_extras": [
            {
              "item_id": 1
            }
          ],
          "base_uri": "https://localhost:8080/",
          "height": 964
        },
        "outputId": "1003fe1a-c28d-4d6f-ead4-eac13d22379b",
        "executionInfo": {
          "status": "ok",
          "timestamp": 1520272732939,
          "user_tz": -330,
          "elapsed": 2005,
          "user": {
            "displayName": "saprem shah",
            "photoUrl": "https://lh3.googleusercontent.com/a/default-user=s128",
            "userId": "118405894786681012982"
          }
        }
      },
      "cell_type": "code",
      "source": [
        "print x_normalized"
      ],
      "execution_count": 75,
      "outputs": [
        {
          "output_type": "stream",
          "text": [
            "  (234, 0)\t0.0020080321285140474\n",
            "  (284, 0)\t0.0020080321285140474\n",
            "  (554, 0)\t0.0020080321285140474\n",
            "  (654, 0)\t0.0020080321285140474\n",
            "  (655, 0)\t0.0020080321285140474\n",
            "  (715, 0)\t0.0020080321285140474\n",
            "  (718, 0)\t0.0020080321285140474\n",
            "  (1068, 0)\t0.0020080321285140474\n",
            "  (1081, 0)\t0.0020080321285140474\n",
            "  (1168, 0)\t0.0020080321285140474\n",
            "  (1178, 0)\t0.0020080321285140474\n",
            "  (1329, 0)\t0.0020080321285140474\n",
            "  (1401, 0)\t0.0020080321285140474\n",
            "  (1410, 0)\t0.0020080321285140474\n",
            "  (1418, 0)\t0.0020080321285140474\n",
            "  (1505, 0)\t0.0020080321285140474\n",
            "  (1834, 0)\t0.0020080321285140474\n",
            "  (1864, 0)\t0.0020080321285140474\n",
            "  (2001, 0)\t0.0020080321285140474\n",
            "  (2009, 0)\t0.0020080321285140474\n",
            "  (2108, 0)\t0.0020080321285140474\n",
            "  (2568, 0)\t0.0020080321285140474\n",
            "  (2597, 0)\t0.0020080321285140474\n",
            "  (2614, 0)\t0.0020080321285140474\n",
            "  (2654, 0)\t0.0020080321285140474\n",
            "  :\t:\n",
            "  (46772, 9999)\t0.0021367521367521274\n",
            "  (46845, 9999)\t0.0021367521367521274\n",
            "  (46956, 9999)\t0.0021367521367521274\n",
            "  (47223, 9999)\t0.0021367521367521274\n",
            "  (47226, 9999)\t0.0021367521367521274\n",
            "  (47249, 9999)\t0.0021367521367521274\n",
            "  (47816, 9999)\t0.0021367521367521274\n",
            "  (47987, 9999)\t0.0021367521367521274\n",
            "  (48174, 9999)\t0.0021367521367521274\n",
            "  (48177, 9999)\t0.0021367521367521274\n",
            "  (48208, 9999)\t0.0021367521367521274\n",
            "  (48272, 9999)\t0.0021367521367521274\n",
            "  (48362, 9999)\t0.0021367521367521274\n",
            "  (48435, 9999)\t0.0021367521367521274\n",
            "  (48455, 9999)\t0.0021367521367521274\n",
            "  (48629, 9999)\t0.0021367521367521274\n",
            "  (48690, 9999)\t0.0021367521367521274\n",
            "  (48699, 9999)\t0.0021367521367521274\n",
            "  (48872, 9999)\t0.0021367521367521274\n",
            "  (48895, 9999)\t0.0021367521367521274\n",
            "  (48944, 9999)\t0.0021367521367521274\n",
            "  (48959, 9999)\t0.0021367521367521274\n",
            "  (49205, 9999)\t0.0021367521367521274\n",
            "  (49395, 9999)\t0.0021367521367521274\n",
            "  (49878, 9999)\t0.0021367521367521274\n"
          ],
          "name": "stdout"
        }
      ]
    },
    {
      "metadata": {
        "id": "XorxdWcJT2Sa",
        "colab_type": "text"
      },
      "cell_type": "markdown",
      "source": [
        "SVD FIT"
      ]
    },
    {
      "metadata": {
        "id": "b4jCyFGjkv_-",
        "colab_type": "code",
        "colab": {
          "autoexec": {
            "startup": false,
            "wait_interval": 0
          }
        }
      },
      "cell_type": "code",
      "source": [
        "start = timeit.default_timer()\n",
        "x_cap = svd.fit(x_normalized)\n",
        "stop = timeit.default_timer()"
      ],
      "execution_count": 0,
      "outputs": []
    },
    {
      "metadata": {
        "id": "EhwMZV-WTjVD",
        "colab_type": "code",
        "colab": {
          "autoexec": {
            "startup": false,
            "wait_interval": 0
          },
          "output_extras": [
            {
              "item_id": 1
            }
          ],
          "base_uri": "https://localhost:8080/",
          "height": 54
        },
        "outputId": "607c6132-6a0f-49a2-cda5-96498eb8a2b7",
        "executionInfo": {
          "status": "ok",
          "timestamp": 1520272741003,
          "user_tz": -330,
          "elapsed": 2565,
          "user": {
            "displayName": "saprem shah",
            "photoUrl": "https://lh3.googleusercontent.com/a/default-user=s128",
            "userId": "118405894786681012982"
          }
        }
      },
      "cell_type": "code",
      "source": [
        "print x_cap"
      ],
      "execution_count": 77,
      "outputs": [
        {
          "output_type": "stream",
          "text": [
            "TruncatedSVD(algorithm='randomized', n_components=5, n_iter=7,\n",
            "       random_state=123, tol=0.0)\n"
          ],
          "name": "stdout"
        }
      ]
    },
    {
      "metadata": {
        "id": "mMWR2freBUsZ",
        "colab_type": "text"
      },
      "cell_type": "markdown",
      "source": [
        "# **speed (time taken)**"
      ]
    },
    {
      "metadata": {
        "id": "uVPfkjTRknP8",
        "colab_type": "code",
        "colab": {
          "autoexec": {
            "startup": false,
            "wait_interval": 0
          },
          "output_extras": [
            {
              "item_id": 1
            }
          ],
          "base_uri": "https://localhost:8080/",
          "height": 36
        },
        "outputId": "592f9578-d23e-4466-f9de-2afa1e176a8e",
        "executionInfo": {
          "status": "ok",
          "timestamp": 1520272743309,
          "user_tz": -330,
          "elapsed": 1097,
          "user": {
            "displayName": "saprem shah",
            "photoUrl": "https://lh3.googleusercontent.com/a/default-user=s128",
            "userId": "118405894786681012982"
          }
        }
      },
      "cell_type": "code",
      "source": [
        "print stop-start"
      ],
      "execution_count": 78,
      "outputs": [
        {
          "output_type": "stream",
          "text": [
            "2.06390786171\n"
          ],
          "name": "stdout"
        }
      ]
    },
    {
      "metadata": {
        "id": "mPxsHA9HBlKN",
        "colab_type": "text"
      },
      "cell_type": "markdown",
      "source": [
        "# **memory utilization**"
      ]
    },
    {
      "metadata": {
        "id": "DcX7dGP2mEAs",
        "colab_type": "code",
        "colab": {
          "autoexec": {
            "startup": false,
            "wait_interval": 0
          },
          "output_extras": [
            {
              "item_id": 1
            }
          ],
          "base_uri": "https://localhost:8080/",
          "height": 36
        },
        "outputId": "6a2ffe87-fdfd-4156-fbd8-e25482ef8031",
        "executionInfo": {
          "status": "ok",
          "timestamp": 1520272745211,
          "user_tz": -330,
          "elapsed": 1286,
          "user": {
            "displayName": "saprem shah",
            "photoUrl": "https://lh3.googleusercontent.com/a/default-user=s128",
            "userId": "118405894786681012982"
          }
        }
      },
      "cell_type": "code",
      "source": [
        "import sys\n",
        "print sys.getsizeof(svd),sys.getsizeof(X) "
      ],
      "execution_count": 79,
      "outputs": [
        {
          "output_type": "stream",
          "text": [
            "64 64\n"
          ],
          "name": "stdout"
        }
      ]
    },
    {
      "metadata": {
        "id": "K8iyGqeXtRTP",
        "colab_type": "code",
        "colab": {
          "autoexec": {
            "startup": false,
            "wait_interval": 0
          },
          "output_extras": [
            {
              "item_id": 1
            }
          ],
          "base_uri": "https://localhost:8080/",
          "height": 258
        },
        "outputId": "af43c173-95d8-436c-95b7-41f8a0f9530a",
        "executionInfo": {
          "status": "ok",
          "timestamp": 1520272748567,
          "user_tz": -330,
          "elapsed": 1742,
          "user": {
            "displayName": "saprem shah",
            "photoUrl": "https://lh3.googleusercontent.com/a/default-user=s128",
            "userId": "118405894786681012982"
          }
        }
      },
      "cell_type": "code",
      "source": [
        "##printing the values of the decomposed components\n",
        "print(\"VT\")\n",
        "print(svd.components_)  \n",
        "print(\"Sigma\")\n",
        "print(svd.singular_values_)"
      ],
      "execution_count": 80,
      "outputs": [
        {
          "output_type": "stream",
          "text": [
            "VT\n",
            "[[ 0.00998653  0.01002046  0.01006625 ...  0.00998956  0.00994894\n",
            "   0.00997071]\n",
            " [-0.0192061  -0.00264812 -0.00685641 ... -0.03111749 -0.01327087\n",
            "  -0.00676885]\n",
            " [ 0.00386587  0.01168584  0.00520264 ...  0.0148165  -0.00097988\n",
            "   0.01013017]\n",
            " [ 0.00174292  0.00392516 -0.00325744 ... -0.00613744 -0.00048666\n",
            "   0.00316204]\n",
            " [-0.00208161  0.00036121 -0.01118827 ... -0.00054636 -0.01055634\n",
            "   0.01307337]]\n",
            "Sigma\n",
            "[0.44943705 0.06218267 0.06200957 0.06192296 0.06188153]\n"
          ],
          "name": "stdout"
        }
      ]
    },
    {
      "metadata": {
        "id": "KzqpzsxvSgu-",
        "colab_type": "code",
        "colab": {
          "autoexec": {
            "startup": false,
            "wait_interval": 0
          },
          "output_extras": [
            {
              "item_id": 1
            }
          ],
          "base_uri": "https://localhost:8080/",
          "height": 36
        },
        "outputId": "69bb69ec-5860-487f-b9db-adbe8c55e983",
        "executionInfo": {
          "status": "ok",
          "timestamp": 1520272751918,
          "user_tz": -330,
          "elapsed": 2297,
          "user": {
            "displayName": "saprem shah",
            "photoUrl": "https://lh3.googleusercontent.com/a/default-user=s128",
            "userId": "118405894786681012982"
          }
        }
      },
      "cell_type": "code",
      "source": [
        "print(svd.explained_variance_ratio_)  "
      ],
      "execution_count": 81,
      "outputs": [
        {
          "output_type": "stream",
          "text": [
            "[0.00010072 0.00019496 0.00019388 0.00019333 0.00019308]\n"
          ],
          "name": "stdout"
        }
      ]
    },
    {
      "metadata": {
        "id": "DOcgzNyaUZ2o",
        "colab_type": "text"
      },
      "cell_type": "markdown",
      "source": [
        "SVD FIT_TRANSFORM --  perform dimensionality reduction on X."
      ]
    },
    {
      "metadata": {
        "id": "7x_YDuk5UASL",
        "colab_type": "code",
        "colab": {
          "autoexec": {
            "startup": false,
            "wait_interval": 0
          }
        }
      },
      "cell_type": "code",
      "source": [
        "start = timeit.default_timer()\n",
        "x_cap= svd.fit_transform(x_normalized)\n",
        "stop = timeit.default_timer()"
      ],
      "execution_count": 0,
      "outputs": []
    },
    {
      "metadata": {
        "id": "1Js26JMpUTTx",
        "colab_type": "code",
        "colab": {
          "autoexec": {
            "startup": false,
            "wait_interval": 0
          },
          "output_extras": [
            {
              "item_id": 1
            }
          ],
          "base_uri": "https://localhost:8080/",
          "height": 258
        },
        "outputId": "4f2216d5-0641-4298-f97b-bec845839f47",
        "executionInfo": {
          "status": "ok",
          "timestamp": 1520272763753,
          "user_tz": -330,
          "elapsed": 992,
          "user": {
            "displayName": "saprem shah",
            "photoUrl": "https://lh3.googleusercontent.com/a/default-user=s128",
            "userId": "118405894786681012982"
          }
        }
      },
      "cell_type": "code",
      "source": [
        "print (x_cap)"
      ],
      "execution_count": 83,
      "outputs": [
        {
          "output_type": "stream",
          "text": [
            "[[ 2.14363705e-03 -4.62643562e-05  2.40188422e-04  8.71246044e-05\n",
            "  -6.65616052e-05]\n",
            " [ 1.97559839e-03 -3.61847282e-04 -3.05956713e-04 -2.07969644e-04\n",
            "   3.39149313e-05]\n",
            " [ 1.72344960e-03  2.68323685e-04  3.24412345e-04  2.84469412e-04\n",
            "  -8.57627996e-05]\n",
            " ...\n",
            " [ 1.66131144e-03 -2.11206085e-04 -7.29478667e-05  4.92674863e-04\n",
            "  -1.06409480e-04]\n",
            " [ 2.04714257e-03 -2.80762465e-04 -7.12006697e-05 -2.85972745e-04\n",
            "  -2.48136432e-04]\n",
            " [ 2.07534312e-03 -1.97203875e-05  3.06029994e-05 -2.40781726e-04\n",
            "  -1.80981884e-04]]\n"
          ],
          "name": "stdout"
        }
      ]
    },
    {
      "metadata": {
        "id": "TcwMsWDMUFED",
        "colab_type": "code",
        "colab": {
          "autoexec": {
            "startup": false,
            "wait_interval": 0
          },
          "output_extras": [
            {
              "item_id": 1
            }
          ],
          "base_uri": "https://localhost:8080/",
          "height": 36
        },
        "outputId": "1dc60b14-5b25-4330-cba3-36fdd5c5e5d6",
        "executionInfo": {
          "status": "ok",
          "timestamp": 1520272768090,
          "user_tz": -330,
          "elapsed": 1668,
          "user": {
            "displayName": "saprem shah",
            "photoUrl": "https://lh3.googleusercontent.com/a/default-user=s128",
            "userId": "118405894786681012982"
          }
        }
      },
      "cell_type": "code",
      "source": [
        "print (stop-start)"
      ],
      "execution_count": 84,
      "outputs": [
        {
          "output_type": "stream",
          "text": [
            "2.12083911896\n"
          ],
          "name": "stdout"
        }
      ]
    },
    {
      "metadata": {
        "id": "xsBhqSdhQd55",
        "colab_type": "text"
      },
      "cell_type": "markdown",
      "source": [
        "# **GENSIM**"
      ]
    },
    {
      "metadata": {
        "id": "67isDZvWl_sb",
        "colab_type": "code",
        "colab": {
          "autoexec": {
            "startup": false,
            "wait_interval": 0
          },
          "output_extras": [
            {
              "item_id": 2
            }
          ],
          "base_uri": "https://localhost:8080/",
          "height": 390
        },
        "outputId": "f42d41ef-be03-4a59-cb67-a022a895dbfd",
        "executionInfo": {
          "status": "ok",
          "timestamp": 1520272188483,
          "user_tz": -330,
          "elapsed": 2480,
          "user": {
            "displayName": "saprem shah",
            "photoUrl": "https://lh3.googleusercontent.com/a/default-user=s128",
            "userId": "118405894786681012982"
          }
        }
      },
      "cell_type": "code",
      "source": [
        "!pip install gensim"
      ],
      "execution_count": 59,
      "outputs": [
        {
          "output_type": "stream",
          "text": [
            "Requirement already satisfied: gensim in /usr/local/lib/python2.7/dist-packages\n",
            "Requirement already satisfied: smart-open>=1.2.1 in /usr/local/lib/python2.7/dist-packages (from gensim)\n",
            "Requirement already satisfied: six>=1.5.0 in /usr/local/lib/python2.7/dist-packages (from gensim)\n",
            "Requirement already satisfied: scipy>=0.18.1 in /usr/local/lib/python2.7/dist-packages (from gensim)\n",
            "Requirement already satisfied: numpy>=1.11.3 in /usr/local/lib/python2.7/dist-packages (from gensim)\n",
            "Requirement already satisfied: bz2file in /usr/local/lib/python2.7/dist-packages (from smart-open>=1.2.1->gensim)\n",
            "Requirement already satisfied: boto>=2.32 in /usr/local/lib/python2.7/dist-packages (from smart-open>=1.2.1->gensim)\n",
            "Requirement already satisfied: requests in /usr/local/lib/python2.7/dist-packages (from smart-open>=1.2.1->gensim)\n",
            "Requirement already satisfied: boto3 in /usr/local/lib/python2.7/dist-packages (from smart-open>=1.2.1->gensim)\n",
            "Requirement already satisfied: idna<2.7,>=2.5 in /usr/local/lib/python2.7/dist-packages (from requests->smart-open>=1.2.1->gensim)\n",
            "Requirement already satisfied: urllib3<1.23,>=1.21.1 in /usr/local/lib/python2.7/dist-packages (from requests->smart-open>=1.2.1->gensim)\n",
            "Requirement already satisfied: certifi>=2017.4.17 in /usr/local/lib/python2.7/dist-packages (from requests->smart-open>=1.2.1->gensim)\n",
            "Requirement already satisfied: chardet<3.1.0,>=3.0.2 in /usr/local/lib/python2.7/dist-packages (from requests->smart-open>=1.2.1->gensim)\n",
            "Requirement already satisfied: jmespath<1.0.0,>=0.7.1 in /usr/local/lib/python2.7/dist-packages (from boto3->smart-open>=1.2.1->gensim)\n",
            "Requirement already satisfied: botocore<1.10.0,>=1.9.3 in /usr/local/lib/python2.7/dist-packages (from boto3->smart-open>=1.2.1->gensim)\n",
            "Requirement already satisfied: s3transfer<0.2.0,>=0.1.10 in /usr/local/lib/python2.7/dist-packages (from boto3->smart-open>=1.2.1->gensim)\n",
            "Requirement already satisfied: docutils>=0.10 in /usr/local/lib/python2.7/dist-packages (from botocore<1.10.0,>=1.9.3->boto3->smart-open>=1.2.1->gensim)\n",
            "Requirement already satisfied: python-dateutil<3.0.0,>=2.1 in /usr/local/lib/python2.7/dist-packages (from botocore<1.10.0,>=1.9.3->boto3->smart-open>=1.2.1->gensim)\n",
            "Requirement already satisfied: futures<4.0.0,>=2.2.0; python_version == \"2.6\" or python_version == \"2.7\" in /usr/local/lib/python2.7/dist-packages (from s3transfer<0.2.0,>=0.1.10->boto3->smart-open>=1.2.1->gensim)\n"
          ],
          "name": "stdout"
        }
      ]
    },
    {
      "metadata": {
        "id": "TpEMbPUw57ND",
        "colab_type": "code",
        "colab": {
          "autoexec": {
            "startup": false,
            "wait_interval": 0
          }
        }
      },
      "cell_type": "code",
      "source": [
        "import gensim\n",
        "start = timeit.default_timer()\n",
        "mat= gensim.models.lsimodel.stochastic_svd(X,2,50000)\n",
        "stop = timeit.default_timer()"
      ],
      "execution_count": 0,
      "outputs": []
    },
    {
      "metadata": {
        "id": "hwT2vJiKBs18",
        "colab_type": "text"
      },
      "cell_type": "markdown",
      "source": [
        "# **Speed (Time Taken)**"
      ]
    },
    {
      "metadata": {
        "id": "cugKHPxclbFt",
        "colab_type": "code",
        "colab": {
          "autoexec": {
            "startup": false,
            "wait_interval": 0
          },
          "output_extras": [
            {
              "item_id": 1
            }
          ],
          "base_uri": "https://localhost:8080/",
          "height": 36
        },
        "outputId": "e00ae30b-8f57-4a68-ea19-b9db734263ef",
        "executionInfo": {
          "status": "ok",
          "timestamp": 1520272823674,
          "user_tz": -330,
          "elapsed": 1352,
          "user": {
            "displayName": "saprem shah",
            "photoUrl": "https://lh3.googleusercontent.com/a/default-user=s128",
            "userId": "118405894786681012982"
          }
        }
      },
      "cell_type": "code",
      "source": [
        "print stop-start"
      ],
      "execution_count": 86,
      "outputs": [
        {
          "output_type": "stream",
          "text": [
            "0.130005121231\n"
          ],
          "name": "stdout"
        }
      ]
    },
    {
      "metadata": {
        "id": "9zjDNvX7Bzfo",
        "colab_type": "text"
      },
      "cell_type": "markdown",
      "source": [
        "# **Memory Utilization**"
      ]
    },
    {
      "metadata": {
        "id": "ZEsoQ5M9m28N",
        "colab_type": "code",
        "colab": {
          "autoexec": {
            "startup": false,
            "wait_interval": 0
          },
          "output_extras": [
            {
              "item_id": 1
            }
          ],
          "base_uri": "https://localhost:8080/",
          "height": 36
        },
        "outputId": "7ebdfc7f-f255-4d84-ea50-8beb291e4daa",
        "executionInfo": {
          "status": "ok",
          "timestamp": 1520272826576,
          "user_tz": -330,
          "elapsed": 1478,
          "user": {
            "displayName": "saprem shah",
            "photoUrl": "https://lh3.googleusercontent.com/a/default-user=s128",
            "userId": "118405894786681012982"
          }
        }
      },
      "cell_type": "code",
      "source": [
        "print sys.getsizeof(svd)"
      ],
      "execution_count": 87,
      "outputs": [
        {
          "output_type": "stream",
          "text": [
            "64\n"
          ],
          "name": "stdout"
        }
      ]
    },
    {
      "metadata": {
        "id": "S60xJooYmXSC",
        "colab_type": "code",
        "colab": {
          "autoexec": {
            "startup": false,
            "wait_interval": 0
          },
          "output_extras": [
            {
              "item_id": 1
            }
          ],
          "base_uri": "https://localhost:8080/",
          "height": 36
        },
        "outputId": "625e965d-f3d4-4795-e10a-438df51aa83d",
        "executionInfo": {
          "status": "ok",
          "timestamp": 1520272829502,
          "user_tz": -330,
          "elapsed": 1546,
          "user": {
            "displayName": "saprem shah",
            "photoUrl": "https://lh3.googleusercontent.com/a/default-user=s128",
            "userId": "118405894786681012982"
          }
        }
      },
      "cell_type": "code",
      "source": [
        "#sigma (singular value of corpus)\n",
        "print mat[1]"
      ],
      "execution_count": 88,
      "outputs": [
        {
          "output_type": "stream",
          "text": [
            "[0.46252931 0.45760443]\n"
          ],
          "name": "stdout"
        }
      ]
    },
    {
      "metadata": {
        "id": "gnRlYgTDm9Vq",
        "colab_type": "code",
        "colab": {
          "autoexec": {
            "startup": false,
            "wait_interval": 0
          },
          "output_extras": [
            {
              "item_id": 1
            }
          ],
          "base_uri": "https://localhost:8080/",
          "height": 147
        },
        "outputId": "b8d6bd28-0ec9-4749-e50e-892b5d2d0430",
        "executionInfo": {
          "status": "ok",
          "timestamp": 1520272831673,
          "user_tz": -330,
          "elapsed": 1470,
          "user": {
            "displayName": "saprem shah",
            "photoUrl": "https://lh3.googleusercontent.com/a/default-user=s128",
            "userId": "118405894786681012982"
          }
        }
      },
      "cell_type": "code",
      "source": [
        "#left singular value\n",
        "print mat[0]"
      ],
      "execution_count": 89,
      "outputs": [
        {
          "output_type": "stream",
          "text": [
            "[[-0.00521031  0.01172549]\n",
            " [-0.02154479 -0.00123713]\n",
            " [-0.00842981 -0.01130095]\n",
            " ...\n",
            " [ 0.          0.        ]\n",
            " [ 0.          0.        ]\n",
            " [ 0.          0.        ]]\n"
          ],
          "name": "stdout"
        }
      ]
    },
    {
      "metadata": {
        "id": "yT3aRIfmOYDK",
        "colab_type": "text"
      },
      "cell_type": "markdown",
      "source": [
        "# **Benchmark  (comparison)**"
      ]
    },
    {
      "metadata": {
        "id": "7-__tc5NNIMR",
        "colab_type": "text"
      },
      "cell_type": "markdown",
      "source": [
        "We found that in terms of time taken, the gensim method to compute SVD is almost 15 times faster than Sklearn SVD method.\n",
        "\n",
        "However when we compared memory utilization it was almost the same.\n",
        "\n",
        "Also the benefit of Gensim is that the whole matrix need not to be loaded into the RAM but can be operated in chunks."
      ]
    },
    {
      "metadata": {
        "id": "If35K-mQJFsC",
        "colab_type": "code",
        "colab": {
          "autoexec": {
            "startup": false,
            "wait_interval": 0
          }
        }
      },
      "cell_type": "code",
      "source": [
        ""
      ],
      "execution_count": 0,
      "outputs": []
    }
  ]
}